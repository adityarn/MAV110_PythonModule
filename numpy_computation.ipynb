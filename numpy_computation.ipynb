{
 "cells": [
  {
   "cell_type": "markdown",
   "id": "14c9ad57",
   "metadata": {},
   "source": [
    "## Numerical computation using Numpy\n",
    "\n",
    "### The Newton Raphson root finding method\n",
    "\n",
    "Find the square root of 7 by numerically solving the equation: $x^2 - 7 = 0$"
   ]
  },
  {
   "cell_type": "code",
   "execution_count": 1,
   "id": "c3787671",
   "metadata": {},
   "outputs": [],
   "source": [
    "import numpy as np\n",
    "import matplotlib.pyplot as plt"
   ]
  },
  {
   "cell_type": "markdown",
   "id": "e11c489d",
   "metadata": {},
   "source": [
    "We begin by defining the number line"
   ]
  },
  {
   "cell_type": "code",
   "execution_count": 2,
   "id": "9bc95b46",
   "metadata": {},
   "outputs": [],
   "source": [
    "N = 20 # number of divisions\n",
    "x = np.linspace(-5, 5, N)"
   ]
  },
  {
   "cell_type": "code",
   "execution_count": 3,
   "id": "a6acaf64",
   "metadata": {},
   "outputs": [],
   "source": [
    "f = x**2 - 7"
   ]
  },
  {
   "cell_type": "code",
   "execution_count": 4,
   "id": "efb54ae2",
   "metadata": {},
   "outputs": [
    {
     "data": {
      "image/png": "[encoded data removed]",
      "text/plain": [
       "<Figure size 432x288 with 1 Axes>"
      ]
     },
     "metadata": {
      "needs_background": "light"
     },
     "output_type": "display_data"
    }
   ],
   "source": [
    "plt.plot(x, f, marker=\"o\")\n",
    "plt.axhline(0, color=\"k\")\n",
    "\n",
    "plt.xticks(np.arange(-5,5.1,1))\n",
    "plt.grid()"
   ]
  },
  {
   "cell_type": "code",
   "execution_count": 104,
   "id": "8fae5603",
   "metadata": {},
   "outputs": [
    {
     "data": {
      "text/plain": [
       "6.760000000000001"
      ]
     },
     "execution_count": 104,
     "metadata": {},
     "output_type": "execute_result"
    }
   ],
   "source": [
    "2.6**2"
   ]
  },
  {
   "cell_type": "code",
   "execution_count": 105,
   "id": "d9985931",
   "metadata": {},
   "outputs": [
    {
     "name": "stdout",
     "output_type": "stream",
     "text": [
      "1.37950138504155\n"
     ]
    }
   ],
   "source": [
    "i_root = np.argmin(np.abs(f))\n",
    "print(f[i_root])"
   ]
  },
  {
   "cell_type": "code",
   "execution_count": 97,
   "id": "5a0251bd",
   "metadata": {},
   "outputs": [
    {
     "data": {
      "text/plain": [
       "-2.7777777777777777"
      ]
     },
     "execution_count": 97,
     "metadata": {},
     "output_type": "execute_result"
    }
   ],
   "source": [
    "x[i_root]"
   ]
  },
  {
   "cell_type": "code",
   "execution_count": 98,
   "id": "54746cb9",
   "metadata": {},
   "outputs": [
    {
     "data": {
      "text/plain": [
       "7.716049382716049"
      ]
     },
     "execution_count": 98,
     "metadata": {},
     "output_type": "execute_result"
    }
   ],
   "source": [
    "x[i_root]**2"
   ]
  },
  {
   "cell_type": "code",
   "execution_count": 5,
   "id": "d1b37006",
   "metadata": {},
   "outputs": [
    {
     "name": "stdout",
     "output_type": "stream",
     "text": [
      "0 -4 -2.875\n",
      "1 -2.875 -2.654891304347826\n",
      "2 -2.654891304347826 -2.6457670441902894\n",
      "3 -2.6457670441902894 -2.6457513111113693\n",
      "4 -2.6457513111113693 -2.6457513110645907\n",
      "-2.6457513110645907\n"
     ]
    }
   ],
   "source": [
    "x_n = -4\n",
    "count = 0\n",
    "while count < 5:\n",
    "    f_n = x_n**2 - 7\n",
    "    f_n_dx = 2*x_n # f'(x) = 2x\n",
    "    \n",
    "    x_np1 = x_n - f_n/f_n_dx\n",
    "    \n",
    "    print(count, x_n, x_np1)\n",
    "    x_n = x_np1\n",
    "    count += 1\n",
    "print(x_np1)    "
   ]
  },
  {
   "cell_type": "code",
   "execution_count": 113,
   "id": "369ae945",
   "metadata": {},
   "outputs": [],
   "source": [
    "def plot_solution_curves(x_n, x_np1):\n",
    "    i_n = np.argmin(np.abs(x - x_n))\n",
    "    i_np1 = np.argmin(np.abs(x - x_np1))\n",
    "    \n",
    "    plt.plot(x, f, marker=\"o\")\n",
    "    plt.axhline(0, color=\"k\")\n",
    "    delta_x = x_np1 - x_n\n",
    "    plt.scatter([x_n, x_np1], [0,0], marker=\"x\", color=\"r\")"
   ]
  },
  {
   "cell_type": "code",
   "execution_count": 138,
   "id": "1995a9b7",
   "metadata": {},
   "outputs": [],
   "source": [
    "for i in range(len(store_iterative_xn)-1):\n",
    "    plot_solution_curves(store_iterative_xn[i], store_iterative_xn[i+1])"
   ]
  },
  {
   "cell_type": "code",
   "execution_count": null,
   "id": "9934fa05",
   "metadata": {},
   "outputs": [],
   "source": []
  }
 ],
 "metadata": {
  "kernelspec": {
   "display_name": "Python 3",
   "language": "python",
   "name": "python3"
  },
  "language_info": {
   "codemirror_mode": {
    "name": "ipython",
    "version": 3
   },
   "file_extension": ".py",
   "mimetype": "text/x-python",
   "name": "python",
   "nbconvert_exporter": "python",
   "pygments_lexer": "ipython3",
   "version": "3.8.3"
  }
 },
 "nbformat": 4,
 "nbformat_minor": 5
}
