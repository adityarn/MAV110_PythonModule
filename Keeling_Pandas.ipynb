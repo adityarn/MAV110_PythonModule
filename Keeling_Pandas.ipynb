{
 "cells": [
  {
   "cell_type": "markdown",
   "id": "f8b0e705",
   "metadata": {},
   "source": [
    "\n",
    "Dataset is available at:\n",
    "https://gml.noaa.gov/dv/data/index.php?parameter_name=Carbon%2BDioxide&search=mauna+loa"
   ]
  },
  {
   "cell_type": "code",
   "execution_count": 3,
   "id": "b62760e6",
   "metadata": {},
   "outputs": [],
   "source": [
    "import pandas as pd\n",
    "import matplotlib.pyplot as plt\n",
    "import numpy as np"
   ]
  },
  {
   "cell_type": "code",
   "execution_count": 24,
   "id": "5125ada7",
   "metadata": {},
   "outputs": [],
   "source": [
    "co2 = pd.read_csv(\"CO2_MaunaLoa.txt\", sep=\" \", header=150)"
   ]
  },
  {
   "cell_type": "code",
   "execution_count": 10,
   "id": "7d37a78d",
   "metadata": {},
   "outputs": [
    {
     "data": {
      "text/plain": [
       "Index(['site_code', 'year', 'month', 'day', 'hour', 'minute', 'second',\n",
       "       'time_decimal', 'value', 'value_std_dev', 'nvalue', 'latitude',\n",
       "       'longitude', 'altitude', 'elevation', 'intake_height', 'qcflag'],\n",
       "      dtype='object')"
      ]
     },
     "execution_count": 10,
     "metadata": {},
     "output_type": "execute_result"
    }
   ],
   "source": [
    "co2.columns"
   ]
  },
  {
   "cell_type": "code",
   "execution_count": 11,
   "id": "6b1bc857",
   "metadata": {},
   "outputs": [
    {
     "data": {
      "text/html": [
       "<div>\n",
       "<style scoped>\n",
       "    .dataframe tbody tr th:only-of-type {\n",
       "        vertical-align: middle;\n",
       "    }\n",
       "\n",
       "    .dataframe tbody tr th {\n",
       "        vertical-align: top;\n",
       "    }\n",
       "\n",
       "    .dataframe thead th {\n",
       "        text-align: right;\n",
       "    }\n",
       "</style>\n",
       "<table border=\"1\" class=\"dataframe\">\n",
       "  <thead>\n",
       "    <tr style=\"text-align: right;\">\n",
       "      <th></th>\n",
       "      <th>site_code</th>\n",
       "      <th>year</th>\n",
       "      <th>month</th>\n",
       "      <th>day</th>\n",
       "      <th>hour</th>\n",
       "      <th>minute</th>\n",
       "      <th>second</th>\n",
       "      <th>time_decimal</th>\n",
       "      <th>value</th>\n",
       "      <th>value_std_dev</th>\n",
       "      <th>nvalue</th>\n",
       "      <th>latitude</th>\n",
       "      <th>longitude</th>\n",
       "      <th>altitude</th>\n",
       "      <th>elevation</th>\n",
       "      <th>intake_height</th>\n",
       "      <th>qcflag</th>\n",
       "    </tr>\n",
       "  </thead>\n",
       "  <tbody>\n",
       "    <tr>\n",
       "      <th>0</th>\n",
       "      <td>MLO</td>\n",
       "      <td>1973</td>\n",
       "      <td>1</td>\n",
       "      <td>1</td>\n",
       "      <td>0</td>\n",
       "      <td>0</td>\n",
       "      <td>0</td>\n",
       "      <td>1973.000000</td>\n",
       "      <td>-999.99</td>\n",
       "      <td>-99.99</td>\n",
       "      <td>0</td>\n",
       "      <td>19.536</td>\n",
       "      <td>-155.576</td>\n",
       "      <td>3437.0</td>\n",
       "      <td>3397.0</td>\n",
       "      <td>40.0</td>\n",
       "      <td>*..</td>\n",
       "    </tr>\n",
       "    <tr>\n",
       "      <th>1</th>\n",
       "      <td>MLO</td>\n",
       "      <td>1973</td>\n",
       "      <td>1</td>\n",
       "      <td>2</td>\n",
       "      <td>0</td>\n",
       "      <td>0</td>\n",
       "      <td>0</td>\n",
       "      <td>1973.002740</td>\n",
       "      <td>-999.99</td>\n",
       "      <td>-99.99</td>\n",
       "      <td>0</td>\n",
       "      <td>19.536</td>\n",
       "      <td>-155.576</td>\n",
       "      <td>3437.0</td>\n",
       "      <td>3397.0</td>\n",
       "      <td>40.0</td>\n",
       "      <td>*..</td>\n",
       "    </tr>\n",
       "    <tr>\n",
       "      <th>2</th>\n",
       "      <td>MLO</td>\n",
       "      <td>1973</td>\n",
       "      <td>1</td>\n",
       "      <td>3</td>\n",
       "      <td>0</td>\n",
       "      <td>0</td>\n",
       "      <td>0</td>\n",
       "      <td>1973.005479</td>\n",
       "      <td>-999.99</td>\n",
       "      <td>-99.99</td>\n",
       "      <td>0</td>\n",
       "      <td>19.536</td>\n",
       "      <td>-155.576</td>\n",
       "      <td>3437.0</td>\n",
       "      <td>3397.0</td>\n",
       "      <td>40.0</td>\n",
       "      <td>*..</td>\n",
       "    </tr>\n",
       "    <tr>\n",
       "      <th>3</th>\n",
       "      <td>MLO</td>\n",
       "      <td>1973</td>\n",
       "      <td>1</td>\n",
       "      <td>4</td>\n",
       "      <td>0</td>\n",
       "      <td>0</td>\n",
       "      <td>0</td>\n",
       "      <td>1973.008219</td>\n",
       "      <td>-999.99</td>\n",
       "      <td>-99.99</td>\n",
       "      <td>0</td>\n",
       "      <td>19.536</td>\n",
       "      <td>-155.576</td>\n",
       "      <td>3437.0</td>\n",
       "      <td>3397.0</td>\n",
       "      <td>40.0</td>\n",
       "      <td>*..</td>\n",
       "    </tr>\n",
       "    <tr>\n",
       "      <th>4</th>\n",
       "      <td>MLO</td>\n",
       "      <td>1973</td>\n",
       "      <td>1</td>\n",
       "      <td>5</td>\n",
       "      <td>0</td>\n",
       "      <td>0</td>\n",
       "      <td>0</td>\n",
       "      <td>1973.010959</td>\n",
       "      <td>-999.99</td>\n",
       "      <td>-99.99</td>\n",
       "      <td>0</td>\n",
       "      <td>19.536</td>\n",
       "      <td>-155.576</td>\n",
       "      <td>3437.0</td>\n",
       "      <td>3397.0</td>\n",
       "      <td>40.0</td>\n",
       "      <td>*..</td>\n",
       "    </tr>\n",
       "    <tr>\n",
       "      <th>...</th>\n",
       "      <td>...</td>\n",
       "      <td>...</td>\n",
       "      <td>...</td>\n",
       "      <td>...</td>\n",
       "      <td>...</td>\n",
       "      <td>...</td>\n",
       "      <td>...</td>\n",
       "      <td>...</td>\n",
       "      <td>...</td>\n",
       "      <td>...</td>\n",
       "      <td>...</td>\n",
       "      <td>...</td>\n",
       "      <td>...</td>\n",
       "      <td>...</td>\n",
       "      <td>...</td>\n",
       "      <td>...</td>\n",
       "      <td>...</td>\n",
       "    </tr>\n",
       "    <tr>\n",
       "      <th>17527</th>\n",
       "      <td>MLO</td>\n",
       "      <td>2020</td>\n",
       "      <td>12</td>\n",
       "      <td>27</td>\n",
       "      <td>0</td>\n",
       "      <td>0</td>\n",
       "      <td>0</td>\n",
       "      <td>2020.986339</td>\n",
       "      <td>415.23</td>\n",
       "      <td>0.11</td>\n",
       "      <td>4</td>\n",
       "      <td>19.536</td>\n",
       "      <td>-155.576</td>\n",
       "      <td>3437.0</td>\n",
       "      <td>3397.0</td>\n",
       "      <td>40.0</td>\n",
       "      <td>...</td>\n",
       "    </tr>\n",
       "    <tr>\n",
       "      <th>17528</th>\n",
       "      <td>MLO</td>\n",
       "      <td>2020</td>\n",
       "      <td>12</td>\n",
       "      <td>28</td>\n",
       "      <td>0</td>\n",
       "      <td>0</td>\n",
       "      <td>0</td>\n",
       "      <td>2020.989071</td>\n",
       "      <td>415.17</td>\n",
       "      <td>0.23</td>\n",
       "      <td>14</td>\n",
       "      <td>19.536</td>\n",
       "      <td>-155.576</td>\n",
       "      <td>3437.0</td>\n",
       "      <td>3397.0</td>\n",
       "      <td>40.0</td>\n",
       "      <td>...</td>\n",
       "    </tr>\n",
       "    <tr>\n",
       "      <th>17529</th>\n",
       "      <td>MLO</td>\n",
       "      <td>2020</td>\n",
       "      <td>12</td>\n",
       "      <td>29</td>\n",
       "      <td>0</td>\n",
       "      <td>0</td>\n",
       "      <td>0</td>\n",
       "      <td>2020.991803</td>\n",
       "      <td>414.88</td>\n",
       "      <td>0.10</td>\n",
       "      <td>14</td>\n",
       "      <td>19.536</td>\n",
       "      <td>-155.576</td>\n",
       "      <td>3437.0</td>\n",
       "      <td>3397.0</td>\n",
       "      <td>40.0</td>\n",
       "      <td>...</td>\n",
       "    </tr>\n",
       "    <tr>\n",
       "      <th>17530</th>\n",
       "      <td>MLO</td>\n",
       "      <td>2020</td>\n",
       "      <td>12</td>\n",
       "      <td>30</td>\n",
       "      <td>0</td>\n",
       "      <td>0</td>\n",
       "      <td>0</td>\n",
       "      <td>2020.994536</td>\n",
       "      <td>415.48</td>\n",
       "      <td>0.08</td>\n",
       "      <td>9</td>\n",
       "      <td>19.536</td>\n",
       "      <td>-155.576</td>\n",
       "      <td>3437.0</td>\n",
       "      <td>3397.0</td>\n",
       "      <td>40.0</td>\n",
       "      <td>...</td>\n",
       "    </tr>\n",
       "    <tr>\n",
       "      <th>17531</th>\n",
       "      <td>MLO</td>\n",
       "      <td>2020</td>\n",
       "      <td>12</td>\n",
       "      <td>31</td>\n",
       "      <td>0</td>\n",
       "      <td>0</td>\n",
       "      <td>0</td>\n",
       "      <td>2020.997268</td>\n",
       "      <td>415.41</td>\n",
       "      <td>0.11</td>\n",
       "      <td>12</td>\n",
       "      <td>19.536</td>\n",
       "      <td>-155.576</td>\n",
       "      <td>3437.0</td>\n",
       "      <td>3397.0</td>\n",
       "      <td>40.0</td>\n",
       "      <td>...</td>\n",
       "    </tr>\n",
       "  </tbody>\n",
       "</table>\n",
       "<p>17532 rows × 17 columns</p>\n",
       "</div>"
      ],
      "text/plain": [
       "      site_code  year  month  day  hour  minute  second  time_decimal   value  \\\n",
       "0           MLO  1973      1    1     0       0       0   1973.000000 -999.99   \n",
       "1           MLO  1973      1    2     0       0       0   1973.002740 -999.99   \n",
       "2           MLO  1973      1    3     0       0       0   1973.005479 -999.99   \n",
       "3           MLO  1973      1    4     0       0       0   1973.008219 -999.99   \n",
       "4           MLO  1973      1    5     0       0       0   1973.010959 -999.99   \n",
       "...         ...   ...    ...  ...   ...     ...     ...           ...     ...   \n",
       "17527       MLO  2020     12   27     0       0       0   2020.986339  415.23   \n",
       "17528       MLO  2020     12   28     0       0       0   2020.989071  415.17   \n",
       "17529       MLO  2020     12   29     0       0       0   2020.991803  414.88   \n",
       "17530       MLO  2020     12   30     0       0       0   2020.994536  415.48   \n",
       "17531       MLO  2020     12   31     0       0       0   2020.997268  415.41   \n",
       "\n",
       "       value_std_dev  nvalue  latitude  longitude  altitude  elevation  \\\n",
       "0             -99.99       0    19.536   -155.576    3437.0     3397.0   \n",
       "1             -99.99       0    19.536   -155.576    3437.0     3397.0   \n",
       "2             -99.99       0    19.536   -155.576    3437.0     3397.0   \n",
       "3             -99.99       0    19.536   -155.576    3437.0     3397.0   \n",
       "4             -99.99       0    19.536   -155.576    3437.0     3397.0   \n",
       "...              ...     ...       ...        ...       ...        ...   \n",
       "17527           0.11       4    19.536   -155.576    3437.0     3397.0   \n",
       "17528           0.23      14    19.536   -155.576    3437.0     3397.0   \n",
       "17529           0.10      14    19.536   -155.576    3437.0     3397.0   \n",
       "17530           0.08       9    19.536   -155.576    3437.0     3397.0   \n",
       "17531           0.11      12    19.536   -155.576    3437.0     3397.0   \n",
       "\n",
       "       intake_height qcflag  \n",
       "0               40.0    *..  \n",
       "1               40.0    *..  \n",
       "2               40.0    *..  \n",
       "3               40.0    *..  \n",
       "4               40.0    *..  \n",
       "...              ...    ...  \n",
       "17527           40.0    ...  \n",
       "17528           40.0    ...  \n",
       "17529           40.0    ...  \n",
       "17530           40.0    ...  \n",
       "17531           40.0    ...  \n",
       "\n",
       "[17532 rows x 17 columns]"
      ]
     },
     "execution_count": 11,
     "metadata": {},
     "output_type": "execute_result"
    }
   ],
   "source": [
    "co2"
   ]
  },
  {
   "cell_type": "code",
   "execution_count": 12,
   "id": "f7c9341d",
   "metadata": {},
   "outputs": [
    {
     "data": {
      "text/plain": [
       "<AxesSubplot:>"
      ]
     },
     "execution_count": 12,
     "metadata": {},
     "output_type": "execute_result"
    },
    {
     "data": {
      "image/png": "[encoded data removed]",
      "text/plain": [
       "<Figure size 432x288 with 1 Axes>"
      ]
     },
     "metadata": {
      "needs_background": "light"
     },
     "output_type": "display_data"
    }
   ],
   "source": [
    "co2.value.plot()"
   ]
  },
  {
   "cell_type": "code",
   "execution_count": 13,
   "id": "756ccae6",
   "metadata": {},
   "outputs": [],
   "source": [
    "dfsel = co2.value > -999"
   ]
  },
  {
   "cell_type": "code",
   "execution_count": 14,
   "id": "cf8e4523",
   "metadata": {},
   "outputs": [
    {
     "data": {
      "text/plain": [
       "<AxesSubplot:>"
      ]
     },
     "execution_count": 14,
     "metadata": {},
     "output_type": "execute_result"
    },
    {
     "data": {
      "image/png": "[encoded data removed]",
      "text/plain": [
       "<Figure size 432x288 with 1 Axes>"
      ]
     },
     "metadata": {
      "needs_background": "light"
     },
     "output_type": "display_data"
    }
   ],
   "source": [
    "co2.loc[dfsel, \"value\"].plot()"
   ]
  },
  {
   "cell_type": "code",
   "execution_count": 39,
   "id": "a4633fd9",
   "metadata": {},
   "outputs": [],
   "source": [
    "co2[\"datetime\"] = pd.to_datetime(co2[[\"year\", \"month\", \"day\", \"hour\", \"minute\", \"second\"]])"
   ]
  },
  {
   "cell_type": "code",
   "execution_count": 42,
   "id": "11332a93",
   "metadata": {},
   "outputs": [],
   "source": [
    "co2 = co2.set_index(co2[\"datetime\"])"
   ]
  },
  {
   "cell_type": "code",
   "execution_count": 44,
   "id": "0bf6865d",
   "metadata": {},
   "outputs": [],
   "source": [
    "dfsel = co2.value > -999"
   ]
  },
  {
   "cell_type": "code",
   "execution_count": 45,
   "id": "443d82b5",
   "metadata": {},
   "outputs": [
    {
     "data": {
      "text/plain": [
       "<AxesSubplot:xlabel='datetime'>"
      ]
     },
     "execution_count": 45,
     "metadata": {},
     "output_type": "execute_result"
    },
    {
     "data": {
      "image/png": "[encoded data removed]",
      "text/plain": [
       "<Figure size 432x288 with 1 Axes>"
      ]
     },
     "metadata": {
      "needs_background": "light"
     },
     "output_type": "display_data"
    }
   ],
   "source": [
    "co2.loc[dfsel, \"value\"].plot()"
   ]
  },
  {
   "cell_type": "code",
   "execution_count": 1,
   "id": "938ae759",
   "metadata": {},
   "outputs": [
    {
     "name": "stdout",
     "output_type": "stream",
     "text": [
      "--2021-11-09 15:13:44--  https://gml.noaa.gov/aftp/data/trace_gases/co2/flask/surface/co2_mlo_surface-flask_1_ccgg_event.txt\n",
      "Resolving gml.noaa.gov (gml.noaa.gov)... 140.172.200.41, 2610:20:8800:6101::29\n",
      "Connecting to gml.noaa.gov (gml.noaa.gov)|140.172.200.41|:443... connected.\n",
      "HTTP request sent, awaiting response... 200 OK\n",
      "Length: 1584198 (1.5M) [text/plain]\n",
      "Saving to: ‘co2_mlo_surface-flask_1_ccgg_event.txt’\n",
      "\n",
      "co2_mlo_surface-fla 100%[===================>]   1.51M  1.49MB/s    in 1.0s    \n",
      "\n",
      "2021-11-09 15:13:46 (1.49 MB/s) - ‘co2_mlo_surface-flask_1_ccgg_event.txt’ saved [1584198/1584198]\n",
      "\n"
     ]
    }
   ],
   "source": [
    "!wget https://gml.noaa.gov/aftp/data/trace_gases/co2/flask/surface/co2_mlo_surface-flask_1_ccgg_event.txt"
   ]
  },
  {
   "cell_type": "code",
   "execution_count": 90,
   "id": "5ea6344a",
   "metadata": {},
   "outputs": [],
   "source": [
    "co2flask = pd.read_csv(\"co2_mlo_surface-flask_1_ccgg_event.txt\", sep=\"\\s+\", header=70)"
   ]
  },
  {
   "cell_type": "code",
   "execution_count": 91,
   "id": "44606802",
   "metadata": {},
   "outputs": [
    {
     "data": {
      "text/html": [
       "<div>\n",
       "<style scoped>\n",
       "    .dataframe tbody tr th:only-of-type {\n",
       "        vertical-align: middle;\n",
       "    }\n",
       "\n",
       "    .dataframe tbody tr th {\n",
       "        vertical-align: top;\n",
       "    }\n",
       "\n",
       "    .dataframe thead th {\n",
       "        text-align: right;\n",
       "    }\n",
       "</style>\n",
       "<table border=\"1\" class=\"dataframe\">\n",
       "  <thead>\n",
       "    <tr style=\"text-align: right;\">\n",
       "      <th></th>\n",
       "      <th>sample_site_code</th>\n",
       "      <th>sample_year</th>\n",
       "      <th>sample_month</th>\n",
       "      <th>sample_day</th>\n",
       "      <th>sample_hour</th>\n",
       "      <th>sample_minute</th>\n",
       "      <th>sample_seconds</th>\n",
       "      <th>sample_id</th>\n",
       "      <th>sample_method</th>\n",
       "      <th>parameter_formula</th>\n",
       "      <th>...</th>\n",
       "      <th>analysis_day</th>\n",
       "      <th>analysis_hour</th>\n",
       "      <th>analysis_minute</th>\n",
       "      <th>analysis_seconds</th>\n",
       "      <th>sample_latitude</th>\n",
       "      <th>sample_longitude</th>\n",
       "      <th>sample_altitude</th>\n",
       "      <th>sample_elevation</th>\n",
       "      <th>sample_intake_height</th>\n",
       "      <th>event_number</th>\n",
       "    </tr>\n",
       "  </thead>\n",
       "  <tbody>\n",
       "    <tr>\n",
       "      <th>0</th>\n",
       "      <td>MLO</td>\n",
       "      <td>1969</td>\n",
       "      <td>8</td>\n",
       "      <td>20</td>\n",
       "      <td>17</td>\n",
       "      <td>55</td>\n",
       "      <td>0</td>\n",
       "      <td>33-69</td>\n",
       "      <td>N</td>\n",
       "      <td>co2</td>\n",
       "      <td>...</td>\n",
       "      <td>9</td>\n",
       "      <td>9</td>\n",
       "      <td>2</td>\n",
       "      <td>0</td>\n",
       "      <td>19.5300</td>\n",
       "      <td>-155.5800</td>\n",
       "      <td>3399.0</td>\n",
       "      <td>3397.0</td>\n",
       "      <td>2.0</td>\n",
       "      <td>78808</td>\n",
       "    </tr>\n",
       "    <tr>\n",
       "      <th>1</th>\n",
       "      <td>MLO</td>\n",
       "      <td>1969</td>\n",
       "      <td>8</td>\n",
       "      <td>20</td>\n",
       "      <td>17</td>\n",
       "      <td>55</td>\n",
       "      <td>0</td>\n",
       "      <td>34-69</td>\n",
       "      <td>N</td>\n",
       "      <td>co2</td>\n",
       "      <td>...</td>\n",
       "      <td>9</td>\n",
       "      <td>9</td>\n",
       "      <td>12</td>\n",
       "      <td>0</td>\n",
       "      <td>19.5300</td>\n",
       "      <td>-155.5800</td>\n",
       "      <td>3399.0</td>\n",
       "      <td>3397.0</td>\n",
       "      <td>2.0</td>\n",
       "      <td>78809</td>\n",
       "    </tr>\n",
       "    <tr>\n",
       "      <th>2</th>\n",
       "      <td>MLO</td>\n",
       "      <td>1969</td>\n",
       "      <td>8</td>\n",
       "      <td>20</td>\n",
       "      <td>18</td>\n",
       "      <td>30</td>\n",
       "      <td>0</td>\n",
       "      <td>31-69</td>\n",
       "      <td>N</td>\n",
       "      <td>co2</td>\n",
       "      <td>...</td>\n",
       "      <td>9</td>\n",
       "      <td>8</td>\n",
       "      <td>58</td>\n",
       "      <td>0</td>\n",
       "      <td>19.5300</td>\n",
       "      <td>-155.5800</td>\n",
       "      <td>3399.0</td>\n",
       "      <td>3397.0</td>\n",
       "      <td>2.0</td>\n",
       "      <td>78810</td>\n",
       "    </tr>\n",
       "    <tr>\n",
       "      <th>3</th>\n",
       "      <td>MLO</td>\n",
       "      <td>1969</td>\n",
       "      <td>8</td>\n",
       "      <td>20</td>\n",
       "      <td>18</td>\n",
       "      <td>30</td>\n",
       "      <td>0</td>\n",
       "      <td>32-69</td>\n",
       "      <td>N</td>\n",
       "      <td>co2</td>\n",
       "      <td>...</td>\n",
       "      <td>9</td>\n",
       "      <td>9</td>\n",
       "      <td>0</td>\n",
       "      <td>0</td>\n",
       "      <td>19.5300</td>\n",
       "      <td>-155.5800</td>\n",
       "      <td>3399.0</td>\n",
       "      <td>3397.0</td>\n",
       "      <td>2.0</td>\n",
       "      <td>78811</td>\n",
       "    </tr>\n",
       "    <tr>\n",
       "      <th>4</th>\n",
       "      <td>MLO</td>\n",
       "      <td>1969</td>\n",
       "      <td>8</td>\n",
       "      <td>27</td>\n",
       "      <td>19</td>\n",
       "      <td>15</td>\n",
       "      <td>0</td>\n",
       "      <td>35-69</td>\n",
       "      <td>N</td>\n",
       "      <td>co2</td>\n",
       "      <td>...</td>\n",
       "      <td>9</td>\n",
       "      <td>8</td>\n",
       "      <td>42</td>\n",
       "      <td>0</td>\n",
       "      <td>19.5300</td>\n",
       "      <td>-155.5800</td>\n",
       "      <td>3399.0</td>\n",
       "      <td>3397.0</td>\n",
       "      <td>2.0</td>\n",
       "      <td>78812</td>\n",
       "    </tr>\n",
       "    <tr>\n",
       "      <th>...</th>\n",
       "      <td>...</td>\n",
       "      <td>...</td>\n",
       "      <td>...</td>\n",
       "      <td>...</td>\n",
       "      <td>...</td>\n",
       "      <td>...</td>\n",
       "      <td>...</td>\n",
       "      <td>...</td>\n",
       "      <td>...</td>\n",
       "      <td>...</td>\n",
       "      <td>...</td>\n",
       "      <td>...</td>\n",
       "      <td>...</td>\n",
       "      <td>...</td>\n",
       "      <td>...</td>\n",
       "      <td>...</td>\n",
       "      <td>...</td>\n",
       "      <td>...</td>\n",
       "      <td>...</td>\n",
       "      <td>...</td>\n",
       "      <td>...</td>\n",
       "    </tr>\n",
       "    <tr>\n",
       "      <th>10124</th>\n",
       "      <td>MLO</td>\n",
       "      <td>2020</td>\n",
       "      <td>12</td>\n",
       "      <td>22</td>\n",
       "      <td>20</td>\n",
       "      <td>24</td>\n",
       "      <td>0</td>\n",
       "      <td>4805-99</td>\n",
       "      <td>P</td>\n",
       "      <td>co2</td>\n",
       "      <td>...</td>\n",
       "      <td>13</td>\n",
       "      <td>11</td>\n",
       "      <td>20</td>\n",
       "      <td>10</td>\n",
       "      <td>19.5362</td>\n",
       "      <td>-155.5763</td>\n",
       "      <td>3402.0</td>\n",
       "      <td>3397.0</td>\n",
       "      <td>5.0</td>\n",
       "      <td>484255</td>\n",
       "    </tr>\n",
       "    <tr>\n",
       "      <th>10125</th>\n",
       "      <td>MLO</td>\n",
       "      <td>2020</td>\n",
       "      <td>12</td>\n",
       "      <td>31</td>\n",
       "      <td>18</td>\n",
       "      <td>40</td>\n",
       "      <td>0</td>\n",
       "      <td>1645-99</td>\n",
       "      <td>S</td>\n",
       "      <td>co2</td>\n",
       "      <td>...</td>\n",
       "      <td>28</td>\n",
       "      <td>12</td>\n",
       "      <td>32</td>\n",
       "      <td>51</td>\n",
       "      <td>19.5362</td>\n",
       "      <td>-155.5763</td>\n",
       "      <td>3437.0</td>\n",
       "      <td>3397.0</td>\n",
       "      <td>40.0</td>\n",
       "      <td>484817</td>\n",
       "    </tr>\n",
       "    <tr>\n",
       "      <th>10126</th>\n",
       "      <td>MLO</td>\n",
       "      <td>2020</td>\n",
       "      <td>12</td>\n",
       "      <td>31</td>\n",
       "      <td>18</td>\n",
       "      <td>40</td>\n",
       "      <td>0</td>\n",
       "      <td>4170-99</td>\n",
       "      <td>S</td>\n",
       "      <td>co2</td>\n",
       "      <td>...</td>\n",
       "      <td>28</td>\n",
       "      <td>12</td>\n",
       "      <td>47</td>\n",
       "      <td>8</td>\n",
       "      <td>19.5362</td>\n",
       "      <td>-155.5763</td>\n",
       "      <td>3437.0</td>\n",
       "      <td>3397.0</td>\n",
       "      <td>40.0</td>\n",
       "      <td>484818</td>\n",
       "    </tr>\n",
       "    <tr>\n",
       "      <th>10127</th>\n",
       "      <td>MLO</td>\n",
       "      <td>2020</td>\n",
       "      <td>12</td>\n",
       "      <td>31</td>\n",
       "      <td>19</td>\n",
       "      <td>17</td>\n",
       "      <td>0</td>\n",
       "      <td>4180-99</td>\n",
       "      <td>P</td>\n",
       "      <td>co2</td>\n",
       "      <td>...</td>\n",
       "      <td>28</td>\n",
       "      <td>12</td>\n",
       "      <td>4</td>\n",
       "      <td>16</td>\n",
       "      <td>19.5362</td>\n",
       "      <td>-155.5763</td>\n",
       "      <td>3402.0</td>\n",
       "      <td>3397.0</td>\n",
       "      <td>5.0</td>\n",
       "      <td>484815</td>\n",
       "    </tr>\n",
       "    <tr>\n",
       "      <th>10128</th>\n",
       "      <td>MLO</td>\n",
       "      <td>2020</td>\n",
       "      <td>12</td>\n",
       "      <td>31</td>\n",
       "      <td>19</td>\n",
       "      <td>17</td>\n",
       "      <td>0</td>\n",
       "      <td>5333-99</td>\n",
       "      <td>P</td>\n",
       "      <td>co2</td>\n",
       "      <td>...</td>\n",
       "      <td>28</td>\n",
       "      <td>12</td>\n",
       "      <td>18</td>\n",
       "      <td>33</td>\n",
       "      <td>19.5362</td>\n",
       "      <td>-155.5763</td>\n",
       "      <td>3402.0</td>\n",
       "      <td>3397.0</td>\n",
       "      <td>5.0</td>\n",
       "      <td>484816</td>\n",
       "    </tr>\n",
       "  </tbody>\n",
       "</table>\n",
       "<p>10129 rows × 27 columns</p>\n",
       "</div>"
      ],
      "text/plain": [
       "      sample_site_code  sample_year  sample_month  sample_day  sample_hour  \\\n",
       "0                  MLO         1969             8          20           17   \n",
       "1                  MLO         1969             8          20           17   \n",
       "2                  MLO         1969             8          20           18   \n",
       "3                  MLO         1969             8          20           18   \n",
       "4                  MLO         1969             8          27           19   \n",
       "...                ...          ...           ...         ...          ...   \n",
       "10124              MLO         2020            12          22           20   \n",
       "10125              MLO         2020            12          31           18   \n",
       "10126              MLO         2020            12          31           18   \n",
       "10127              MLO         2020            12          31           19   \n",
       "10128              MLO         2020            12          31           19   \n",
       "\n",
       "       sample_minute  sample_seconds sample_id sample_method  \\\n",
       "0                 55               0     33-69             N   \n",
       "1                 55               0     34-69             N   \n",
       "2                 30               0     31-69             N   \n",
       "3                 30               0     32-69             N   \n",
       "4                 15               0     35-69             N   \n",
       "...              ...             ...       ...           ...   \n",
       "10124             24               0   4805-99             P   \n",
       "10125             40               0   1645-99             S   \n",
       "10126             40               0   4170-99             S   \n",
       "10127             17               0   4180-99             P   \n",
       "10128             17               0   5333-99             P   \n",
       "\n",
       "      parameter_formula  ... analysis_day  analysis_hour  analysis_minute  \\\n",
       "0                   co2  ...            9              9                2   \n",
       "1                   co2  ...            9              9               12   \n",
       "2                   co2  ...            9              8               58   \n",
       "3                   co2  ...            9              9                0   \n",
       "4                   co2  ...            9              8               42   \n",
       "...                 ...  ...          ...            ...              ...   \n",
       "10124               co2  ...           13             11               20   \n",
       "10125               co2  ...           28             12               32   \n",
       "10126               co2  ...           28             12               47   \n",
       "10127               co2  ...           28             12                4   \n",
       "10128               co2  ...           28             12               18   \n",
       "\n",
       "      analysis_seconds sample_latitude  sample_longitude  sample_altitude  \\\n",
       "0                    0         19.5300         -155.5800           3399.0   \n",
       "1                    0         19.5300         -155.5800           3399.0   \n",
       "2                    0         19.5300         -155.5800           3399.0   \n",
       "3                    0         19.5300         -155.5800           3399.0   \n",
       "4                    0         19.5300         -155.5800           3399.0   \n",
       "...                ...             ...               ...              ...   \n",
       "10124               10         19.5362         -155.5763           3402.0   \n",
       "10125               51         19.5362         -155.5763           3437.0   \n",
       "10126                8         19.5362         -155.5763           3437.0   \n",
       "10127               16         19.5362         -155.5763           3402.0   \n",
       "10128               33         19.5362         -155.5763           3402.0   \n",
       "\n",
       "       sample_elevation  sample_intake_height  event_number  \n",
       "0                3397.0                   2.0         78808  \n",
       "1                3397.0                   2.0         78809  \n",
       "2                3397.0                   2.0         78810  \n",
       "3                3397.0                   2.0         78811  \n",
       "4                3397.0                   2.0         78812  \n",
       "...                 ...                   ...           ...  \n",
       "10124            3397.0                   5.0        484255  \n",
       "10125            3397.0                  40.0        484817  \n",
       "10126            3397.0                  40.0        484818  \n",
       "10127            3397.0                   5.0        484815  \n",
       "10128            3397.0                   5.0        484816  \n",
       "\n",
       "[10129 rows x 27 columns]"
      ]
     },
     "execution_count": 91,
     "metadata": {},
     "output_type": "execute_result"
    }
   ],
   "source": [
    "co2flask"
   ]
  },
  {
   "cell_type": "code",
   "execution_count": 92,
   "id": "2e170a9c",
   "metadata": {},
   "outputs": [
    {
     "data": {
      "text/plain": [
       "Index(['sample_site_code', 'sample_year', 'sample_month', 'sample_day',\n",
       "       'sample_hour', 'sample_minute', 'sample_seconds', 'sample_id',\n",
       "       'sample_method', 'parameter_formula', 'analysis_group_abbr',\n",
       "       'analysis_value', 'analysis_uncertainty', 'analysis_flag',\n",
       "       'analysis_instrument', 'analysis_year', 'analysis_month',\n",
       "       'analysis_day', 'analysis_hour', 'analysis_minute', 'analysis_seconds',\n",
       "       'sample_latitude', 'sample_longitude', 'sample_altitude',\n",
       "       'sample_elevation', 'sample_intake_height', 'event_number'],\n",
       "      dtype='object')"
      ]
     },
     "execution_count": 92,
     "metadata": {},
     "output_type": "execute_result"
    }
   ],
   "source": [
    "co2flask.columns"
   ]
  },
  {
   "cell_type": "code",
   "execution_count": 93,
   "id": "b40d4888",
   "metadata": {},
   "outputs": [
    {
     "data": {
      "text/plain": [
       "<AxesSubplot:>"
      ]
     },
     "execution_count": 93,
     "metadata": {},
     "output_type": "execute_result"
    },
    {
     "data": {
      "image/png": "[encoded data removed]",
      "text/plain": [
       "<Figure size 432x288 with 1 Axes>"
      ]
     },
     "metadata": {
      "needs_background": "light"
     },
     "output_type": "display_data"
    }
   ],
   "source": [
    "co2flask.analysis_value.plot()"
   ]
  },
  {
   "cell_type": "code",
   "execution_count": 94,
   "id": "16401bb9",
   "metadata": {},
   "outputs": [],
   "source": [
    "selvalid = co2flask.analysis_value != -999.990"
   ]
  },
  {
   "cell_type": "code",
   "execution_count": 95,
   "id": "ea08ffa6",
   "metadata": {},
   "outputs": [
    {
     "data": {
      "text/plain": [
       "<AxesSubplot:>"
      ]
     },
     "execution_count": 95,
     "metadata": {},
     "output_type": "execute_result"
    },
    {
     "data": {
      "image/png": "[encoded data removed]",
      "text/plain": [
       "<Figure size 432x288 with 1 Axes>"
      ]
     },
     "metadata": {
      "needs_background": "light"
     },
     "output_type": "display_data"
    }
   ],
   "source": [
    "co2flask.loc[selvalid].analysis_value.plot()"
   ]
  },
  {
   "cell_type": "markdown",
   "id": "a53fad9b",
   "metadata": {},
   "source": [
    "Let's select data that is marked as good quality. For details on the quality flag used by the NOAA lab, see Section 7.5 in this [README file](https://gml.noaa.gov/aftp/data/trace_gases/co2/flask/surface/README_surface_flask_co2.html)"
   ]
  },
  {
   "cell_type": "code",
   "execution_count": 96,
   "id": "4fae7996",
   "metadata": {},
   "outputs": [],
   "source": [
    "sel_good = (co2flask.analysis_flag == \"..H\") | (co2flask.analysis_flag == \"...\") | (co2flask.analysis_flag == \"..L\") | (co2flask.analysis_flag == \"..I\")"
   ]
  },
  {
   "cell_type": "code",
   "execution_count": 97,
   "id": "0a486fda",
   "metadata": {},
   "outputs": [
    {
     "data": {
      "text/plain": [
       "<AxesSubplot:>"
      ]
     },
     "execution_count": 97,
     "metadata": {},
     "output_type": "execute_result"
    },
    {
     "data": {
      "image/png": "[encoded data removed]",
      "text/plain": [
       "<Figure size 432x288 with 1 Axes>"
      ]
     },
     "metadata": {
      "needs_background": "light"
     },
     "output_type": "display_data"
    }
   ],
   "source": [
    "co2flask.loc[sel_good, \"analysis_value\"].plot()"
   ]
  },
  {
   "cell_type": "code",
   "execution_count": 98,
   "id": "2f231549",
   "metadata": {},
   "outputs": [],
   "source": [
    "co2flask[\"datetime\"] = pd.to_datetime(co2flask.sample_year.astype(str)+\"-\"+co2flask.sample_month.astype(str)+\"-\"+co2flask.sample_day.astype(str)+\\\n",
    "               \"T\"+co2flask.sample_hour.astype(str)+\":\"+co2flask.sample_minute.astype(str)+\":\"+co2flask.sample_seconds.astype(str))"
   ]
  },
  {
   "cell_type": "code",
   "execution_count": 100,
   "id": "25f09519",
   "metadata": {},
   "outputs": [
    {
     "data": {
      "text/plain": [
       "0       1969-08-20 17:55:00\n",
       "6       1969-08-27 19:50:00\n",
       "10      1969-09-02 20:00:00\n",
       "12      1969-09-12 17:50:00\n",
       "13      1969-09-12 17:50:00\n",
       "                ...        \n",
       "10124   2020-12-22 20:24:00\n",
       "10125   2020-12-31 18:40:00\n",
       "10126   2020-12-31 18:40:00\n",
       "10127   2020-12-31 19:17:00\n",
       "10128   2020-12-31 19:17:00\n",
       "Name: datetime, Length: 9163, dtype: datetime64[ns]"
      ]
     },
     "execution_count": 100,
     "metadata": {},
     "output_type": "execute_result"
    }
   ],
   "source": [
    "co2flask[\"datetime\"]"
   ]
  },
  {
   "cell_type": "code",
   "execution_count": 101,
   "id": "f7508159",
   "metadata": {},
   "outputs": [],
   "source": [
    "co2flask = co2flask.loc[sel_good]"
   ]
  },
  {
   "cell_type": "code",
   "execution_count": 102,
   "id": "a83cd13b",
   "metadata": {},
   "outputs": [
    {
     "data": {
      "text/plain": [
       "[<matplotlib.lines.Line2D at 0x7f2ce82be1c0>]"
      ]
     },
     "execution_count": 102,
     "metadata": {},
     "output_type": "execute_result"
    },
    {
     "data": {
      "image/png": "[encoded data removed]",
      "text/plain": [
       "<Figure size 432x288 with 1 Axes>"
      ]
     },
     "metadata": {
      "needs_background": "light"
     },
     "output_type": "display_data"
    }
   ],
   "source": [
    "plt.plot(co2flask.datetime, co2flask.analysis_value)"
   ]
  },
  {
   "cell_type": "code",
   "execution_count": null,
   "id": "c44a1dd7",
   "metadata": {},
   "outputs": [],
   "source": []
  }
 ],
 "metadata": {
  "kernelspec": {
   "display_name": "Python 3",
   "language": "python",
   "name": "python3"
  },
  "language_info": {
   "codemirror_mode": {
    "name": "ipython",
    "version": 3
   },
   "file_extension": ".py",
   "mimetype": "text/x-python",
   "name": "python",
   "nbconvert_exporter": "python",
   "pygments_lexer": "ipython3",
   "version": "3.8.3"
  }
 },
 "nbformat": 4,
 "nbformat_minor": 5
}
