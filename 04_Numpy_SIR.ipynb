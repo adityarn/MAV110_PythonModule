{
 "cells": [
  {
   "cell_type": "markdown",
   "id": "ecfaab35",
   "metadata": {},
   "source": [
    "## Exercise:\n",
    "\n",
    "This example is sourced from the [Scipy website](https://scipython.com/book/chapter-8-scipy/additional-examples/the-sir-epidemic-model/) where you can find more details. For more on these models and their variations, see [Compartmental models in epidimiology, Wikipedia](https://en.wikipedia.org/wiki/Compartmental_models_in_epidemiology).\n",
    "\n",
    "Numerically solve the SIR epidemic model:\n",
    "\n",
    "1. In pure Python using for loops to integrate in time.\n",
    "1. Using Scipy's odeint package. \n",
    "\n",
    "The differential equations that describe the model are:\n",
    "\n",
    "\\begin{equation}\n",
    "\\frac{dS}{dt} = \\frac{-\\beta I S}{N}\n",
    "\\end{equation}\n",
    "\n",
    "\\begin{equation}\n",
    "\\frac{dI}{dt} = \\frac{\\beta I S}{N} - \\gamma I\n",
    "\\end{equation}\n",
    "\n",
    "\\begin{equation}\n",
    "\\frac{dR}{dt} = \\gamma I\n",
    "\\end{equation}\n",
    "\n",
    "Where S are the susceptible numbers in the population, I is the number of infected, R is the number of recovered persons in the population. $\\beta$ is the *effective contact rate*, that is, an infected individual comes into contact with $\\beta N$ individuals. $\\gamma$ is the mean recovery rate: $1/\\gamma$ is the mean period of time that an individual can pass on the infection.\n",
    "\n",
    "A vitally important number to keep track of is the ratio: $R_0 = \\beta/\\gamma$; when $R_0 \\gt 1$, the disease spreads through the population, when $R_0 \\lt 1$, the disease quickly dies out."
   ]
  },
  {
   "cell_type": "code",
   "execution_count": 1,
   "id": "4ac58164",
   "metadata": {},
   "outputs": [],
   "source": [
    "import numpy as np\n",
    "import matplotlib.pyplot as plt"
   ]
  },
  {
   "cell_type": "code",
   "execution_count": 51,
   "id": "3816cca9",
   "metadata": {},
   "outputs": [],
   "source": [
    "N = 1000\n",
    "Rec0 = 0\n",
    "Inf0 = 1\n",
    "Sus0 = N - Inf0"
   ]
  },
  {
   "cell_type": "code",
   "execution_count": 52,
   "id": "1d57f5a1",
   "metadata": {},
   "outputs": [],
   "source": [
    "beta = 0.2\n",
    "gamma = 0.1\n",
    "R0 = beta/gamma"
   ]
  },
  {
   "cell_type": "code",
   "execution_count": 53,
   "id": "4b784419",
   "metadata": {},
   "outputs": [
    {
     "data": {
      "text/plain": [
       "2.0"
      ]
     },
     "execution_count": 53,
     "metadata": {},
     "output_type": "execute_result"
    }
   ],
   "source": [
    "R0"
   ]
  },
  {
   "cell_type": "code",
   "execution_count": 58,
   "id": "457c710f",
   "metadata": {},
   "outputs": [],
   "source": [
    "Sus = [Sus0]\n",
    "Rec = [Rec0]\n",
    "Inf = [Inf0]\n",
    "for t in range(150):\n",
    "    delta_S = -beta * Inf[-1] * Sus[-1] / N\n",
    "    Sus.append(Sus[-1]+delta_S)\n",
    "    \n",
    "    delta_I = beta * Inf[-1] * Sus[-1] / N - gamma * Inf[-1]\n",
    "    Inf.append(Inf[-1] + delta_I)\n",
    "    \n",
    "    delta_R = gamma * Inf[-1]\n",
    "    Rec.append(Rec[-1] + delta_R)\n",
    "    #print(delta_S, delta_I, delta_R)"
   ]
  },
  {
   "cell_type": "code",
   "execution_count": 59,
   "id": "ae35aa35",
   "metadata": {},
   "outputs": [],
   "source": [
    "Sus = np.array(Sus)\n",
    "Rec = np.array(Rec)\n",
    "Inf = np.array(Inf)"
   ]
  },
  {
   "cell_type": "code",
   "execution_count": 60,
   "id": "219e6d95",
   "metadata": {},
   "outputs": [
    {
     "data": {
      "text/plain": [
       "<matplotlib.legend.Legend at 0x7fb92f5603d0>"
      ]
     },
     "execution_count": 60,
     "metadata": {},
     "output_type": "execute_result"
    },
    {
     "data": {
      "image/png": "[encoded data removed]",
      "text/plain": [
       "<Figure size 432x288 with 1 Axes>"
      ]
     },
     "metadata": {
      "needs_background": "light"
     },
     "output_type": "display_data"
    }
   ],
   "source": [
    "plt.plot(np.arange(151), Sus, label=\"Susceptible\")\n",
    "plt.plot(np.arange(151), Rec, label=\"Recovered\")\n",
    "plt.plot(np.arange(151), Inf, label=\"Infected\")\n",
    "plt.legend()"
   ]
  },
  {
   "cell_type": "markdown",
   "id": "f00df0f1",
   "metadata": {},
   "source": [
    "### Exercise 07: SIR model in scipy\n",
    "\n",
    "Use scipy.integrate.odeint to solve the SIR model. For more information, refer to the [documentation page](https://docs.scipy.org/doc/scipy/reference/generated/scipy.integrate.odeint.html)."
   ]
  },
  {
   "cell_type": "code",
   "execution_count": 1,
   "id": "aef4852d",
   "metadata": {},
   "outputs": [],
   "source": [
    "# %load ./solutions/sol_scipy_SIR.py"
   ]
  }
 ],
 "metadata": {
  "kernelspec": {
   "display_name": "Python 3",
   "language": "python",
   "name": "python3"
  },
  "language_info": {
   "codemirror_mode": {
    "name": "ipython",
    "version": 3
   },
   "file_extension": ".py",
   "mimetype": "text/x-python",
   "name": "python",
   "nbconvert_exporter": "python",
   "pygments_lexer": "ipython3",
   "version": "3.8.3"
  }
 },
 "nbformat": 4,
 "nbformat_minor": 5
}
