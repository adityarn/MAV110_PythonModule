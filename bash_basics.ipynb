{
 "cells": [
  {
   "cell_type": "markdown",
   "id": "61ad64fa",
   "metadata": {},
   "source": [
    "# Bash shell commands basics"
   ]
  },
  {
   "cell_type": "markdown",
   "id": "e1e0986f",
   "metadata": {},
   "source": [
    "Bash is the command-processor shell that is available on all Linux systems. Among other things, tt allows you to send commands to your Operating System to launch jobs and to handle files and user permissions.\n",
    "\n",
    "Open a Bash terminal and try the following commands!"
   ]
  },
  {
   "cell_type": "code",
   "execution_count": 2,
   "id": "ef5345d0",
   "metadata": {},
   "outputs": [
    {
     "name": "stdout",
     "output_type": "stream",
     "text": [
      "00_PythonBasics.ipynb  bash_basics.ipynb\n",
      "04_Pandas.ipynb        numpy_computation.ipynb\n"
     ]
    }
   ],
   "source": [
    "!ls # Exclamatory mark in the Python shell allows you to access Bash commands"
   ]
  },
  {
   "cell_type": "code",
   "execution_count": 4,
   "id": "24fed188",
   "metadata": {},
   "outputs": [
    {
     "name": "stdout",
     "output_type": "stream",
     "text": [
      "No manual entry for ls\n"
     ]
    }
   ],
   "source": [
    "!man ls"
   ]
  },
  {
   "cell_type": "markdown",
   "id": "e2b23291",
   "metadata": {
    "jupyter": {
     "source_hidden": true
    }
   },
   "source": [
    "### Access the manual for each Bash command by typing: man \\<command\\>\n",
    "\n",
    "#### The manual is missing on this computer, but it is commonly found on most Linux computers that you will work with. The manual entry is reproduced below:\n",
    "\n",
    "\n",
    "LS(1)                                                                                           User Commands                                                                                           LS(1)\n",
    "\n",
    "NAME\n",
    "       ls - list directory contents\n",
    "\n",
    "SYNOPSIS\n",
    "       ls [OPTION]... [FILE]...\n",
    "\n",
    "DESCRIPTION\n",
    "       List information about the FILEs (the current directory by default).  Sort entries alphabetically if none of -cftuvSUX nor --sort is specified.\n",
    "\n",
    "       Mandatory arguments to long options are mandatory for short options too.\n",
    "\n",
    "       -a, --all\n",
    "              do not ignore entries starting with .\n",
    "\n",
    "       -A, --almost-all\n",
    "              do not list implied . and ..\n",
    "\n",
    "       --author\n",
    "              with -l, print the author of each file\n",
    "\n",
    "       -b, --escape\n",
    "              print C-style escapes for nongraphic characters\n",
    "\n",
    "       --block-size=SIZE\n",
    "              with -l, scale sizes by SIZE when printing them; e.g., '--block-size=M'; see SIZE format below\n",
    "\n",
    "       -B, --ignore-backups\n",
    "              do not list implied entries ending with ~\n",
    "\n",
    "       -c     with -lt: sort by, and show, ctime (time of last modification of file status information); with -l: show ctime and sort by name; otherwise: sort by ctime, newest first\n",
    "\n",
    "       -C     list entries by columns\n",
    "\n",
    "       --color[=WHEN]\n",
    "              colorize the output; WHEN can be 'always' (default if omitted), 'auto', or 'never'; more info below\n",
    "\n",
    "       -d, --directory\n",
    "              list directories themselves, not their contents\n",
    "\n",
    "       -D, --dired\n",
    "              generate output designed for Emacs' dired mode\n",
    "\n",
    "       -f     do not sort, enable -aU, disable -ls --color\n",
    "\n",
    "       -F, --classify\n",
    "              append indicator (one of */=>@|) to entries\n",
    "\n",
    "       --file-type\n",
    "              likewise, except do not append '*'\n",
    "\n",
    "       --format=WORD\n",
    "              across -x, commas -m, horizontal -x, long -l, single-column -1, verbose -l, vertical -C\n",
    "\n",
    "       --full-time\n",
    "              like -l --time-style=full-iso\n",
    "\n",
    "       -g     like -l, but do not list owner\n",
    "\n",
    "       --group-directories-first\n",
    "              group directories before files;\n",
    "\n",
    "              can be augmented with a --sort option, but any use of --sort=none (-U) disables grouping\n",
    "\n",
    "       -G, --no-group\n",
    "              in a long listing, don't print group names\n",
    "\n",
    "       -h, --human-readable\n",
    "              with -l and -s, print sizes like 1K 234M 2G etc.\n",
    "\n",
    "       --si   likewise, but use powers of 1000 not 1024\n",
    "\n",
    "       -H, --dereference-command-line\n",
    "              follow symbolic links listed on the command line\n",
    "\n",
    "       --dereference-command-line-symlink-to-dir\n",
    "              follow each command line symbolic link\n",
    "\n",
    "              that points to a directory\n",
    "\n",
    "       --hide=PATTERN\n",
    "              do not list implied entries matching shell PATTERN (overridden by -a or -A)\n",
    "\n",
    "       --hyperlink[=WHEN]\n",
    "              hyperlink file names; WHEN can be 'always' (default if omitted), 'auto', or 'never'\n",
    "\n",
    "       --indicator-style=WORD\n",
    "              append indicator with style WORD to entry names: none (default), slash (-p), file-type (--file-type), classify (-F)\n",
    "\n",
    "       -i, --inode\n",
    "              print the index number of each file\n",
    "\n",
    "       -I, --ignore=PATTERN\n",
    "              do not list implied entries matching shell PATTERN\n",
    "\n",
    "       -k, --kibibytes\n",
    "              default to 1024-byte blocks for disk usage; used only with -s and per directory totals\n",
    "\n",
    "       -l     use a long listing format\n",
    "\n",
    "       -L, --dereference\n",
    "              when showing file information for a symbolic link, show information for the file the link references rather than for the link itself\n",
    "\n",
    "       -m     fill width with a comma separated list of entries\n",
    "\n",
    "       -n, --numeric-uid-gid\n",
    "              like -l, but list numeric user and group IDs\n",
    "\n",
    "       -N, --literal\n",
    "              print entry names without quoting\n",
    "\n",
    "       -o     like -l, but do not list group information\n",
    "\n",
    "       -p, --indicator-style=slash\n",
    "              append / indicator to directories\n",
    "\n",
    "       -q, --hide-control-chars\n",
    "              print ? instead of nongraphic characters\n",
    "\n",
    "       --show-control-chars\n",
    "              show nongraphic characters as-is (the default, unless program is 'ls' and output is a terminal)\n",
    "\n",
    "       -Q, --quote-name\n",
    "              enclose entry names in double quotes\n",
    "\n",
    "       --quoting-style=WORD\n",
    "              use quoting style WORD for entry names: literal, locale, shell, shell-always, shell-escape, shell-escape-always, c, escape (overrides QUOTING_STYLE environment variable)\n",
    "\n",
    "       -r, --reverse\n",
    "              reverse order while sorting\n",
    "\n",
    "       -R, --recursive\n",
    "              list subdirectories recursively\n",
    "\n",
    "       -s, --size\n",
    "              print the allocated size of each file, in blocks\n",
    "\n",
    "       -S     sort by file size, largest first\n",
    "\n",
    "       --sort=WORD\n",
    "              sort by WORD instead of name: none (-U), size (-S), time (-t), version (-v), extension (-X)\n",
    "\n",
    "       --time=WORD\n",
    "              with -l, show time as WORD instead of default modification time: atime or access or use (-u); ctime or status (-c); also use specified time as sort key if --sort=time (newest first)\n",
    "\n",
    "       --time-style=TIME_STYLE\n",
    "              time/date format with -l; see TIME_STYLE below\n",
    "\n",
    "       -t     sort by modification time, newest first\n",
    "\n",
    "       -T, --tabsize=COLS\n",
    "              assume tab stops at each COLS instead of 8\n",
    "\n",
    "       -u     with -lt: sort by, and show, access time; with -l: show access time and sort by name; otherwise: sort by access time, newest first\n",
    "\n",
    "       -U     do not sort; list entries in directory order\n",
    "\n",
    "       -v     natural sort of (version) numbers within text\n",
    "\n",
    "       -w, --width=COLS\n",
    "              set output width to COLS.  0 means no limit\n",
    "\n",
    "       -x     list entries by lines instead of by columns\n",
    "\n",
    "       -X     sort alphabetically by entry extension\n",
    "\n",
    "       -Z, --context\n",
    "              print any security context of each file\n",
    "\n",
    "       -1     list one file per line.  Avoid '\\n' with -q or -b\n",
    "\n",
    "       --help display this help and exit\n",
    "\n",
    "       --version\n",
    "              output version information and exit\n",
    "\n",
    "       The SIZE argument is an integer and optional unit (example: 10K is 10*1024).  Units are K,M,G,T,P,E,Z,Y (powers of 1024) or KB,MB,... (powers of 1000).\n",
    "\n",
    "       The  TIME_STYLE  argument  can be full-iso, long-iso, iso, locale, or +FORMAT.  FORMAT is interpreted like in date(1).  If FORMAT is FORMAT1<newline>FORMAT2, then FORMAT1 applies to non-recent files\n",
    "       and FORMAT2 to recent files.  TIME_STYLE prefixed with 'posix-' takes effect only outside the POSIX locale.  Also the TIME_STYLE environment variable sets the default style to use.\n",
    "\n",
    "       Using color to distinguish file types is disabled both by default and with --color=never.  With --color=auto, ls emits color codes only when standard output is connected to a terminal.  The  LS_COL‐\n",
    "       ORS environment variable can change the settings.  Use the dircolors command to set it.\n",
    "\n",
    "   Exit status:\n",
    "       0      if OK,\n",
    "\n",
    "       1      if minor problems (e.g., cannot access subdirectory),\n",
    "\n",
    "       2      if serious trouble (e.g., cannot access command-line argument).\n",
    "\n",
    "AUTHOR\n",
    "       Written by Richard M. Stallman and David MacKenzie.\n",
    "\n",
    "REPORTING BUGS\n",
    "       GNU coreutils online help: <https://www.gnu.org/software/coreutils/>\n",
    "       Report ls translation bugs to <https://translationproject.org/team/>\n",
    "\n",
    "COPYRIGHT\n",
    "       Copyright © 2018 Free Software Foundation, Inc.  License GPLv3+: GNU GPL version 3 or later <https://gnu.org/licenses/gpl.html>.\n",
    "       This is free software: you are free to change and redistribute it.  There is NO WARRANTY, to the extent permitted by law.\n",
    "\n",
    "SEE ALSO\n",
    "       Full documentation at: <https://www.gnu.org/software/coreutils/ls>\n",
    "       or available locally via: info '(coreutils) ls invocation'\n",
    "\n",
    "GNU coreutils 8.30                                                                              September 2019                                                                                          LS(1)\n"
   ]
  },
  {
   "cell_type": "markdown",
   "id": "033bcbdf",
   "metadata": {},
   "source": [
    "The \"-\" is how you pass options to the command \"ls\"\n",
    "\n",
    "The option \"1\" in this case lists the files in a single column."
   ]
  },
  {
   "cell_type": "code",
   "execution_count": 1,
   "id": "510d448e",
   "metadata": {},
   "outputs": [
    {
     "name": "stdout",
     "output_type": "stream",
     "text": [
      "00_PythonBasics.ipynb\n",
      "01_Numpy.ipynb\n",
      "02_NumpyComputation.ipynb\n",
      "03_Numpy_Computation.ipynb\n",
      "04_Numpy_SIR.ipynb\n",
      "05_Pandas.ipynb\n",
      "06_Pandas_Keeling.ipynb\n",
      "assignment1.ipynb\n",
      "bash_basics.ipynb\n",
      "CO2_MaunaLoa.txt\n",
      "co2_mlo_surface-flask_1_ccgg_event.txt\n",
      "co2_mm_mlo.txt\n",
      "install_modules_python3.8.ipynb\n",
      "LICENSE\n",
      "Matplotlib_intro.ipynb\n",
      "solutions\n",
      "Time_series_and_Linear_Regression_Keeling_curve.ipynb\n",
      "typescript\n"
     ]
    }
   ],
   "source": [
    "!ls -1"
   ]
  },
  {
   "cell_type": "markdown",
   "id": "032e75e1",
   "metadata": {},
   "source": [
    "<br>\n",
    "An option of -l shows a \"long listing\" with more details. The first column gives information on file permissions. More on that later. The 2nd column shows the number of hard links. The 3rd and 4th columns show the owner and group information (more on that later). The 5th column shows the size of the file in bytes. The next column shows the time when the file was last modified. Finally we see the name of the file."
   ]
  },
  {
   "cell_type": "code",
   "execution_count": 2,
   "id": "8eb5117c",
   "metadata": {},
   "outputs": [
    {
     "name": "stdout",
     "output_type": "stream",
     "text": [
      "total 4352\n",
      "-rw-r--r--. 1 1000740000 1000740000   46045 Dec  7 07:17 00_PythonBasics.ipynb\n",
      "-rw-r--r--. 1 1000740000 1000740000   48821 Dec  7 14:13 01_Numpy.ipynb\n",
      "-rw-r--r--. 1 1000740000 1000740000  130289 Dec  7 14:01 02_NumpyComputation.ipynb\n",
      "-rw-r--r--. 1 1000740000 1000740000   37856 Dec  9 10:54 03_Numpy_Computation.ipynb\n",
      "-rw-r--r--. 1 1000740000 1000740000   55202 Dec  9 10:18 04_Numpy_SIR.ipynb\n",
      "-rw-r--r--. 1 1000740000 1000740000   88767 Dec  9 12:44 05_Pandas.ipynb\n",
      "-rw-r--r--. 1 1000740000 1000740000  110717 Dec  5 09:51 06_Pandas_Keeling.ipynb\n",
      "-rw-r--r--. 1 1000740000 1000740000     932 Dec  9 10:42 assignment1.ipynb\n",
      "-rw-r--r--. 1 1000740000 1000740000   12013 Dec  9 14:23 bash_basics.ipynb\n",
      "-rw-r--r--. 1 1000740000 1000740000 1633313 Nov  9 14:39 CO2_MaunaLoa.txt\n",
      "-rw-r--r--. 1 1000740000 1000740000 1584183 Nov  9 15:14 co2_mlo_surface-flask_1_ccgg_event.txt\n",
      "-rw-r--r--. 1 1000740000 1000740000   56287 Nov 16 13:58 co2_mm_mlo.txt\n",
      "-rw-r--r--. 1 1000740000 1000740000   10819 Dec  5 09:51 install_modules_python3.8.ipynb\n",
      "-rw-r--r--. 1 1000740000 1000740000    1073 Nov 11 14:12 LICENSE\n",
      "-rw-r--r--. 1 1000740000 1000740000  531360 Dec  6 10:22 Matplotlib_intro.ipynb\n",
      "drwxr-sr-x. 3 1000740000 1000740000    4096 Dec  6 10:13 solutions\n",
      "-rw-r--r--. 1 1000740000 1000740000   67735 Nov 16 14:00 Time_series_and_Linear_Regression_Keeling_curve.ipynb\n",
      "-rw-r--r--. 1 1000740000 1000740000    4602 Nov 30 12:54 typescript\n"
     ]
    }
   ],
   "source": [
    "!ls -l"
   ]
  },
  {
   "cell_type": "markdown",
   "id": "e61e58cf",
   "metadata": {},
   "source": [
    "<br>\n",
    "\n",
    "ls with options \"s\" and \"h\" show the file **s**izes in **h**uman readable format"
   ]
  },
  {
   "cell_type": "code",
   "execution_count": 10,
   "id": "1c9a8583",
   "metadata": {},
   "outputs": [
    {
     "name": "stdout",
     "output_type": "stream",
     "text": [
      "total 4.3M\n",
      " 48K 00_PythonBasics.ipynb\n",
      " 48K 01_Numpy.ipynb\n",
      "128K 02_NumpyComputation.ipynb\n",
      " 40K 03_Numpy_Computation.ipynb\n",
      " 56K 04_Numpy_SIR.ipynb\n",
      " 88K 05_Pandas.ipynb\n",
      "112K 06_Pandas_Keeling.ipynb\n",
      "4.0K assignment1.ipynb\n",
      " 16K bash_basics.ipynb\n",
      "1.6M CO2_MaunaLoa.txt\n",
      "1.6M co2_mlo_surface-flask_1_ccgg_event.txt\n",
      " 56K co2_mm_mlo.txt\n",
      " 12K install_modules_python3.8.ipynb\n",
      "4.0K LICENSE\n",
      "520K Matplotlib_intro.ipynb\n",
      "4.0K solutions\n",
      " 68K Time_series_and_Linear_Regression_Keeling_curve.ipynb\n",
      "8.0K typescript\n"
     ]
    }
   ],
   "source": [
    "!ls -sh"
   ]
  },
  {
   "cell_type": "code",
   "execution_count": 11,
   "id": "1aa90ce3",
   "metadata": {},
   "outputs": [
    {
     "name": "stdout",
     "output_type": "stream",
     "text": [
      "total 4.3M\n",
      "1.6M -rw-r--r--. 1 1000740000 1000740000 1.6M Nov  9 14:39 CO2_MaunaLoa.txt\n",
      "1.6M -rw-r--r--. 1 1000740000 1000740000 1.6M Nov  9 15:14 co2_mlo_surface-flask_1_ccgg_event.txt\n",
      "4.0K -rw-r--r--. 1 1000740000 1000740000 1.1K Nov 11 14:12 LICENSE\n",
      " 56K -rw-r--r--. 1 1000740000 1000740000  55K Nov 16 13:58 co2_mm_mlo.txt\n",
      " 68K -rw-r--r--. 1 1000740000 1000740000  67K Nov 16 14:00 Time_series_and_Linear_Regression_Keeling_curve.ipynb\n",
      "8.0K -rw-r--r--. 1 1000740000 1000740000 4.5K Nov 30 12:54 typescript\n",
      "112K -rw-r--r--. 1 1000740000 1000740000 109K Dec  5 09:51 06_Pandas_Keeling.ipynb\n",
      " 12K -rw-r--r--. 1 1000740000 1000740000  11K Dec  5 09:51 install_modules_python3.8.ipynb\n",
      "4.0K drwxr-sr-x. 3 1000740000 1000740000 4.0K Dec  6 10:13 solutions\n",
      "520K -rw-r--r--. 1 1000740000 1000740000 519K Dec  6 10:22 Matplotlib_intro.ipynb\n",
      " 48K -rw-r--r--. 1 1000740000 1000740000  45K Dec  7 07:17 00_PythonBasics.ipynb\n",
      "128K -rw-r--r--. 1 1000740000 1000740000 128K Dec  7 14:01 02_NumpyComputation.ipynb\n",
      " 48K -rw-r--r--. 1 1000740000 1000740000  48K Dec  7 14:13 01_Numpy.ipynb\n",
      " 56K -rw-r--r--. 1 1000740000 1000740000  54K Dec  9 10:18 04_Numpy_SIR.ipynb\n",
      "4.0K -rw-r--r--. 1 1000740000 1000740000  932 Dec  9 10:42 assignment1.ipynb\n",
      " 40K -rw-r--r--. 1 1000740000 1000740000  37K Dec  9 10:54 03_Numpy_Computation.ipynb\n",
      " 88K -rw-r--r--. 1 1000740000 1000740000  87K Dec  9 12:44 05_Pandas.ipynb\n",
      " 20K -rw-r--r--. 1 1000740000 1000740000  17K Dec  9 15:36 bash_basics.ipynb\n"
     ]
    }
   ],
   "source": [
    "!ls -lrtsh"
   ]
  },
  {
   "cell_type": "markdown",
   "id": "be0aae13",
   "metadata": {},
   "source": [
    "<br>\n",
    "\n",
    "### cd: Change Directory \n",
    "\n",
    "Next, we try out the \"cd\" command. \n",
    "\n",
    "```\n",
    "sh-4.4$ mkdir newFolder\n",
    "sh-4.4$ ls\n",
    "co2_mm_mlo.txt  lost+found  MAR440  MAR440_PythonWorkshop.zip  MAV110_DEC2021  miniconda3  Miniconda3-py38_4.10.3-Linux-x86_64.sh  newFolder  shared  typescript\n",
    "sh-4.4$ cd newFolder\n",
    "sh-4.4$ ls\n",
    "sh-4.4$ pwd\n",
    "/opt/app-root/src/newFolder\n",
    "sh-4.4$ cd ../\n",
    "sh-4.4$ pwd\n",
    "/opt/app-root/src\n",
    "sh-4.4$ ls\n",
    "co2_mm_mlo.txt  lost+found  MAR440  MAR440_PythonWorkshop.zip  MAV110_DEC2021  miniconda3  Miniconda3-py38_4.10.3-Linux-x86_64.sh  newFolder  shared  typescript\n",
    "sh-4.4$ cd ./MAV110_DEC2021/solutions/\n",
    "sh-4.4$ ls\n",
    "sol_00_01.py  sol_02_04.py       sol_disp_scipy.py        sol_linear_regression.py  sol_np_reshape.py       sol_scipy_SIR.py\n",
    "sol_00_02.py  sol_dispersion.py  sol_linear_curve_fit.py  sol_mult.py               sol_poly2_curve_fit.py\n",
    "sh-4.4$ pwd\n",
    "/opt/app-root/src/MAV110_DEC2021/solutions\n",
    "sh-4.4$ cd ../../\n",
    "sh-4.4$ pwd\n",
    "/opt/app-root/src\n",
    "```\n",
    "\n",
    "We start any path in Linux with the forward slash \"/\". To access the current directory, we use dot-slash: \"./\"\n",
    "\n",
    "A path of \"../\" will take you one directory level up. You can go up multiple levels by having multiple dot-dot-slashes: ../../../ this will take you 3 levels up\n",
    "\n",
    "**pwd** will print out the current working directory."
   ]
  },
  {
   "cell_type": "code",
   "execution_count": 15,
   "id": "13d2271e",
   "metadata": {},
   "outputs": [
    {
     "name": "stdout",
     "output_type": "stream",
     "text": [
      "Hello World!\n"
     ]
    }
   ],
   "source": [
    "!echo \"Hello World!\""
   ]
  },
  {
   "cell_type": "code",
   "execution_count": 16,
   "id": "6774a4c2",
   "metadata": {},
   "outputs": [],
   "source": [
    "!echo \"Hello World!\" > helloWorld.txt"
   ]
  },
  {
   "cell_type": "code",
   "execution_count": 18,
   "id": "f04dc51f",
   "metadata": {},
   "outputs": [
    {
     "name": "stdout",
     "output_type": "stream",
     "text": [
      "total 4.3M\n",
      "1.6M -rw-r--r--. 1 1000740000 1000740000 1.6M Nov  9 14:39 CO2_MaunaLoa.txt\n",
      "1.6M -rw-r--r--. 1 1000740000 1000740000 1.6M Nov  9 15:14 co2_mlo_surface-flask_1_ccgg_event.txt\n",
      "4.0K -rw-r--r--. 1 1000740000 1000740000 1.1K Nov 11 14:12 LICENSE\n",
      " 56K -rw-r--r--. 1 1000740000 1000740000  55K Nov 16 13:58 co2_mm_mlo.txt\n",
      " 68K -rw-r--r--. 1 1000740000 1000740000  67K Nov 16 14:00 Time_series_and_Linear_Regression_Keeling_curve.ipynb\n",
      "8.0K -rw-r--r--. 1 1000740000 1000740000 4.5K Nov 30 12:54 typescript\n",
      "112K -rw-r--r--. 1 1000740000 1000740000 109K Dec  5 09:51 06_Pandas_Keeling.ipynb\n",
      " 12K -rw-r--r--. 1 1000740000 1000740000  11K Dec  5 09:51 install_modules_python3.8.ipynb\n",
      "4.0K drwxr-sr-x. 3 1000740000 1000740000 4.0K Dec  6 10:13 solutions\n",
      "520K -rw-r--r--. 1 1000740000 1000740000 519K Dec  6 10:22 Matplotlib_intro.ipynb\n",
      " 48K -rw-r--r--. 1 1000740000 1000740000  45K Dec  7 07:17 00_PythonBasics.ipynb\n",
      "128K -rw-r--r--. 1 1000740000 1000740000 128K Dec  7 14:01 02_NumpyComputation.ipynb\n",
      " 48K -rw-r--r--. 1 1000740000 1000740000  48K Dec  7 14:13 01_Numpy.ipynb\n",
      " 56K -rw-r--r--. 1 1000740000 1000740000  54K Dec  9 10:18 04_Numpy_SIR.ipynb\n",
      "4.0K -rw-r--r--. 1 1000740000 1000740000  932 Dec  9 10:42 assignment1.ipynb\n",
      " 40K -rw-r--r--. 1 1000740000 1000740000  37K Dec  9 10:54 03_Numpy_Computation.ipynb\n",
      " 88K -rw-r--r--. 1 1000740000 1000740000  87K Dec  9 12:44 05_Pandas.ipynb\n",
      " 24K -rw-r--r--. 1 1000740000 1000740000  21K Dec  9 15:57 bash_basics.ipynb\n",
      "4.0K -rw-r--r--. 1 1000740000 1000740000   13 Dec  9 15:57 helloWorld.txt\n"
     ]
    }
   ],
   "source": [
    "!ls -lrtsh"
   ]
  },
  {
   "cell_type": "code",
   "execution_count": 19,
   "id": "89157f15",
   "metadata": {},
   "outputs": [
    {
     "name": "stdout",
     "output_type": "stream",
     "text": [
      "Hello World!\n"
     ]
    }
   ],
   "source": [
    "!cat helloWorld.txt"
   ]
  },
  {
   "cell_type": "markdown",
   "id": "73f1a367",
   "metadata": {},
   "source": [
    "### Deleting files and folders\n",
    "\n",
    "Add the recursive option **-r** when you want to delete a directory and all it's subdirectories."
   ]
  },
  {
   "cell_type": "code",
   "execution_count": null,
   "id": "5819fb6e",
   "metadata": {},
   "outputs": [],
   "source": [
    "!rm helloWorld.txt"
   ]
  },
  {
   "cell_type": "code",
   "execution_count": 16,
   "id": "69b2216e",
   "metadata": {},
   "outputs": [],
   "source": [
    "!echo \"Hello World!\" > helloWorld.txt"
   ]
  },
  {
   "cell_type": "markdown",
   "id": "86e266f0",
   "metadata": {},
   "source": [
    "### Linux users and file permissions\n",
    "\n",
    "Individual users have varying levels of access to files. Permissions are set on each individual file that determine if users can **r**ead, **w**rite, and e**x**ecute the file.\n",
    "\n",
    "Some users also have administrator privileges that allows you to modify protected system files, add or remove users, change permissions and ownership of files etc. Execute the command **id** to see if your user ID is part of the sudo (administrator) group"
   ]
  },
  {
   "cell_type": "code",
   "execution_count": 20,
   "id": "38c90071",
   "metadata": {},
   "outputs": [
    {
     "name": "stdout",
     "output_type": "stream",
     "text": [
      "uid=1000740000(1000740000) gid=0(root) groups=0(root),1000740000\n"
     ]
    }
   ],
   "source": [
    "!id"
   ]
  },
  {
   "cell_type": "markdown",
   "id": "e25a1529",
   "metadata": {},
   "source": [
    "We see that we are not part of the sudo group. But the same command on my own laptop shows me that I have administrator privileges:\n",
    "\n",
    "```\n",
    "~$id\n",
    "uid=1000(aditya) gid=1000(aditya) groups=1000(aditya),4(adm),24(cdrom),27(sudo),30(dip),46(plugdev),104(input),116(lpadmin),126(sambashare),129(kismet),140(vboxusers)\n",
    "```"
   ]
  },
  {
   "cell_type": "markdown",
   "id": "6a849dda",
   "metadata": {},
   "source": [
    "<br>\n",
    "\n",
    "Let's understand file permissions\n",
    "\n",
    "```\n",
    "sh-4.4$ \n",
    "sh-4.4$ cd shared\n",
    "sh-4.4$ ls -l\n",
    "total 28\n",
    "drwxr-xr-x. 5 1000740000 root 4096 Dec  7 07:43 archive\n",
    "drwxr-xr-x. 3 1000740000 root 4096 May  3  2021 Exercises\n",
    "drwxr-xr-x. 2 1000740000 root 4096 Mar 26  2021 mar450\n",
    "drwxr-xr-x. 4 1000740000 root 4096 Oct 29 09:47 mav102_HT21\n",
    "drwxr-xr-x. 3 1000740000 root 4096 Dec  7 07:54 mav104_HT21\n",
    "drwxr-xr-x. 3 1000740000 root 4096 Dec  6 10:45 mav110_PythonModule\n",
    "drwxr-xr-x. 3 1000740000 root 4096 Mar 26  2021 tmp\n",
    "```\n",
    "\n",
    "The very first letter \"d\" shows that the file is a directory. Note that in Linux, directories are just files that contain the names of other files. The next 3 letters indicate that the owner has permissions to read (r), write (w), and execute (x). The next 3 places contain permissions for the group, and the next 3 places are permissions for all other users."
   ]
  },
  {
   "cell_type": "markdown",
   "id": "20a64e50",
   "metadata": {},
   "source": [
    "How can you change file permissions?"
   ]
  },
  {
   "cell_type": "code",
   "execution_count": 23,
   "id": "7a33f8c8",
   "metadata": {},
   "outputs": [
    {
     "name": "stdout",
     "output_type": "stream",
     "text": [
      "-rw-r--r--. 1 1000740000 1000740000 1633313 Nov  9 14:39 CO2_MaunaLoa.txt\n",
      "-rw-r--r--. 1 1000740000 1000740000 1584183 Nov  9 15:14 co2_mlo_surface-flask_1_ccgg_event.txt\n",
      "-rw-r--r--. 1 1000740000 1000740000   56287 Nov 16 13:58 co2_mm_mlo.txt\n",
      "-rw-r--r--. 1 1000740000 1000740000      13 Dec  9 15:57 helloWorld.txt\n"
     ]
    }
   ],
   "source": [
    "!ls *.txt -l"
   ]
  },
  {
   "cell_type": "markdown",
   "id": "3dfb9443",
   "metadata": {},
   "source": [
    "The * allows us to match patterns."
   ]
  },
  {
   "cell_type": "code",
   "execution_count": 24,
   "id": "2df09428",
   "metadata": {},
   "outputs": [],
   "source": [
    "!chmod u+x helloWorld.txt"
   ]
  },
  {
   "cell_type": "code",
   "execution_count": 25,
   "id": "2611cd8f",
   "metadata": {},
   "outputs": [
    {
     "name": "stdout",
     "output_type": "stream",
     "text": [
      "-rw-r--r--. 1 1000740000 1000740000 1633313 Nov  9 14:39 CO2_MaunaLoa.txt\n",
      "-rw-r--r--. 1 1000740000 1000740000 1584183 Nov  9 15:14 co2_mlo_surface-flask_1_ccgg_event.txt\n",
      "-rw-r--r--. 1 1000740000 1000740000   56287 Nov 16 13:58 co2_mm_mlo.txt\n",
      "-rwxr--r--. 1 1000740000 1000740000      13 Dec  9 15:57 helloWorld.txt\n"
     ]
    }
   ],
   "source": [
    "!ls *.txt -l"
   ]
  },
  {
   "cell_type": "markdown",
   "id": "01c39b29",
   "metadata": {},
   "source": [
    "Notice the \"x\" has now appeared in our file permissions of \"helloWorld.txt\"\n",
    "\n",
    "To add permissions for the group: chmod g+rw-x <br>\n",
    "This would add read and write permissions to the group, but remove execute permissions.\n",
    "\n",
    "To remove permissions for all users: chmod a-rwx<br>\n",
    "This would remove all permissions for all other users.\n",
    "\n",
    "We used the command \"chmod\" to change the permission of the file and have made it executable for the owner of the file. Notice that other users do not have execute or write permissions.\n",
    "\n",
    "Let's now rename our file using the move command: **mv**"
   ]
  },
  {
   "cell_type": "code",
   "execution_count": 27,
   "id": "efdf9822",
   "metadata": {},
   "outputs": [],
   "source": [
    "!mv ./helloWorld.txt ./helloEarth.txt"
   ]
  },
  {
   "cell_type": "code",
   "execution_count": 29,
   "id": "ef3bc094",
   "metadata": {},
   "outputs": [
    {
     "name": "stdout",
     "output_type": "stream",
     "text": [
      "-rw-r--r--. 1 1000740000 1000740000 1633313 Nov  9 14:39 CO2_MaunaLoa.txt\n",
      "-rw-r--r--. 1 1000740000 1000740000 1584183 Nov  9 15:14 co2_mlo_surface-flask_1_ccgg_event.txt\n",
      "-rw-r--r--. 1 1000740000 1000740000   56287 Nov 16 13:58 co2_mm_mlo.txt\n",
      "-rwxr--r--. 1 1000740000 1000740000      13 Dec  9 15:57 helloEarth.txt\n"
     ]
    }
   ],
   "source": [
    "!ls *.txt -l"
   ]
  },
  {
   "cell_type": "markdown",
   "id": "2e9744a4",
   "metadata": {},
   "source": [
    "**cp**: copy files from source to destination"
   ]
  },
  {
   "cell_type": "code",
   "execution_count": 30,
   "id": "bd240f41",
   "metadata": {},
   "outputs": [],
   "source": [
    "!cp ./helloEarth.txt ./helloWorld_copy.txt"
   ]
  },
  {
   "cell_type": "code",
   "execution_count": 31,
   "id": "82a1eaff",
   "metadata": {},
   "outputs": [
    {
     "name": "stdout",
     "output_type": "stream",
     "text": [
      "-rw-r--r--. 1 1000740000 1000740000 1633313 Nov  9 14:39 CO2_MaunaLoa.txt\n",
      "-rw-r--r--. 1 1000740000 1000740000 1584183 Nov  9 15:14 co2_mlo_surface-flask_1_ccgg_event.txt\n",
      "-rw-r--r--. 1 1000740000 1000740000   56287 Nov 16 13:58 co2_mm_mlo.txt\n",
      "-rwxr--r--. 1 1000740000 1000740000      13 Dec  9 15:57 helloEarth.txt\n",
      "-rwxr--r--. 1 1000740000 1000740000      13 Dec  9 16:30 helloWorld_copy.txt\n"
     ]
    }
   ],
   "source": [
    "!ls *.txt -l"
   ]
  },
  {
   "cell_type": "markdown",
   "id": "30a45156",
   "metadata": {},
   "source": [
    "### Relative path versus absolute path\n",
    "\n",
    "We have been using relative paths with ./\n",
    "\n",
    "But we could have also specified the full path to the current directory rather than the relative paths. The commands would still behave in the same way. It is just more convenient to write out the relative paths."
   ]
  },
  {
   "cell_type": "code",
   "execution_count": 33,
   "id": "a7df1393",
   "metadata": {},
   "outputs": [
    {
     "name": "stdout",
     "output_type": "stream",
     "text": [
      "/opt/app-root/src/MAV110_DEC2021\n"
     ]
    }
   ],
   "source": [
    "!pwd"
   ]
  },
  {
   "cell_type": "code",
   "execution_count": 34,
   "id": "538ab613",
   "metadata": {},
   "outputs": [
    {
     "name": "stdout",
     "output_type": "stream",
     "text": [
      "00_PythonBasics.ipynb\n",
      "01_Numpy.ipynb\n",
      "02_NumpyComputation.ipynb\n",
      "03_Numpy_Computation.ipynb\n",
      "04_Numpy_SIR.ipynb\n",
      "05_Pandas.ipynb\n",
      "06_Pandas_Keeling.ipynb\n",
      "assignment1.ipynb\n",
      "bash_basics.ipynb\n",
      "CO2_MaunaLoa.txt\n",
      "co2_mlo_surface-flask_1_ccgg_event.txt\n",
      "co2_mm_mlo.txt\n",
      "helloEarth.txt\n",
      "helloWorld_copy.txt\n",
      "install_modules_python3.8.ipynb\n",
      "LICENSE\n",
      "Matplotlib_intro.ipynb\n",
      "solutions\n",
      "Time_series_and_Linear_Regression_Keeling_curve.ipynb\n",
      "typescript\n"
     ]
    }
   ],
   "source": [
    "!ls /opt/app-root/src/MAV110_DEC2021/"
   ]
  },
  {
   "cell_type": "markdown",
   "id": "86bdb56e",
   "metadata": {},
   "source": [
    "### Compressing and Uncompressing files\n",
    "\n",
    "**Compression** <br>\n",
    "**tar** -cvf name_of_archive.tzr.gz /path/to/file1 /path/to/file2\n",
    "\n",
    "**Uncompression** <br>\n",
    "**tar** -xvf name_of_archive.tzr.gz -C /path/to/output/directory\n"
   ]
  },
  {
   "cell_type": "code",
   "execution_count": 35,
   "id": "3dad851b",
   "metadata": {},
   "outputs": [
    {
     "name": "stdout",
     "output_type": "stream",
     "text": [
      "./helloEarth.txt\n",
      "./helloWorld_copy.txt\n"
     ]
    }
   ],
   "source": [
    "!tar -cvf Hellos.tar.gz ./helloEarth.txt ./helloWorld_copy.txt"
   ]
  },
  {
   "cell_type": "code",
   "execution_count": 36,
   "id": "adb8c77d",
   "metadata": {},
   "outputs": [],
   "source": [
    "!mkdir Hellos"
   ]
  },
  {
   "cell_type": "code",
   "execution_count": 37,
   "id": "6e5d15fd",
   "metadata": {},
   "outputs": [
    {
     "name": "stdout",
     "output_type": "stream",
     "text": [
      "./helloEarth.txt\n",
      "./helloWorld_copy.txt\n"
     ]
    }
   ],
   "source": [
    "!tar -xvf Hellos.tar.gz -C ./Hellos/"
   ]
  },
  {
   "cell_type": "code",
   "execution_count": 38,
   "id": "4cc0d2ab",
   "metadata": {},
   "outputs": [
    {
     "name": "stdout",
     "output_type": "stream",
     "text": [
      "helloEarth.txt\thelloWorld_copy.txt\n"
     ]
    }
   ],
   "source": [
    "!ls ./Hellos"
   ]
  },
  {
   "cell_type": "code",
   "execution_count": 39,
   "id": "42550c10",
   "metadata": {},
   "outputs": [
    {
     "name": "stdout",
     "output_type": "stream",
     "text": [
      "  adding: helloEarth.txt (stored 0%)\n",
      "  adding: helloWorld_copy.txt (stored 0%)\n"
     ]
    }
   ],
   "source": [
    "!zip Hellos.zip ./helloEarth.txt ./helloWorld_copy.txt"
   ]
  },
  {
   "cell_type": "code",
   "execution_count": 40,
   "id": "6166bdfe",
   "metadata": {},
   "outputs": [],
   "source": [
    "!rm ./Hellos/*"
   ]
  },
  {
   "cell_type": "code",
   "execution_count": 41,
   "id": "15555ad1",
   "metadata": {},
   "outputs": [
    {
     "name": "stdout",
     "output_type": "stream",
     "text": [
      "Archive:  Hellos.zip\n",
      " extracting: ./Hellos/helloEarth.txt  \n",
      " extracting: ./Hellos/helloWorld_copy.txt  \n"
     ]
    }
   ],
   "source": [
    "!unzip Hellos.zip -d ./Hellos/"
   ]
  },
  {
   "cell_type": "code",
   "execution_count": 42,
   "id": "5cb4bcbd",
   "metadata": {},
   "outputs": [
    {
     "name": "stdout",
     "output_type": "stream",
     "text": [
      "helloEarth.txt\thelloWorld_copy.txt\n"
     ]
    }
   ],
   "source": [
    "!ls ./Hellos"
   ]
  },
  {
   "cell_type": "code",
   "execution_count": null,
   "id": "c11dbb0e",
   "metadata": {},
   "outputs": [],
   "source": []
  }
 ],
 "metadata": {
  "kernelspec": {
   "display_name": "Python 3",
   "language": "python",
   "name": "python3"
  },
  "language_info": {
   "codemirror_mode": {
    "name": "ipython",
    "version": 3
   },
   "file_extension": ".py",
   "mimetype": "text/x-python",
   "name": "python",
   "nbconvert_exporter": "python",
   "pygments_lexer": "ipython3",
   "version": "3.8.3"
  }
 },
 "nbformat": 4,
 "nbformat_minor": 5
}
