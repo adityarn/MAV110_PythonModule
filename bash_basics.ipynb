{
 "cells": [
  {
   "cell_type": "markdown",
   "id": "4f1b883d",
   "metadata": {},
   "source": [
    "# Bash shell commands basics"
   ]
  },
  {
   "cell_type": "markdown",
   "id": "f9c21a63",
   "metadata": {},
   "source": [
    "Bash is the command-processor shell that is available on all Linux systems. Among other things, it allows you to send commands to your Operating System to launch jobs and to handle files and user permissions.\n",
    "\n",
    "Open a Bash terminal and try the following commands!"
   ]
  },
  {
   "cell_type": "code",
   "execution_count": 2,
   "id": "48500bc0",
   "metadata": {},
   "outputs": [
    {
     "name": "stdout",
     "output_type": "stream",
     "text": [
      "00_PythonBasics.ipynb  bash_basics.ipynb\n",
      "04_Pandas.ipynb        numpy_computation.ipynb\n"
     ]
    }
   ],
   "source": [
    "!ls # Exclamatory mark in the Python shell allows you to access Bash commands"
   ]
  },
  {
   "cell_type": "code",
   "execution_count": 4,
   "id": "4d15a1fb",
   "metadata": {},
   "outputs": [
    {
     "name": "stdout",
     "output_type": "stream",
     "text": [
      "No manual entry for ls\n"
     ]
    }
   ],
   "source": [
    "!man ls"
   ]
  },
  {
   "cell_type": "markdown",
   "id": "dc809c1d",
   "metadata": {
    "jupyter": {
     "source_hidden": true
    }
   },
   "source": [
    "### Access the manual for each Bash command by typing: man \\<command\\>\n",
    "\n",
    "#### The manual is missing on this computer, but it is commonly found on most Linux computers that you will work with. The manual entry is reproduced below:\n",
    "\n",
    "\n",
    "LS(1)                                                                                           User Commands                                                                                           LS(1)\n",
    "\n",
    "NAME\n",
    "       ls - list directory contents\n",
    "\n",
    "SYNOPSIS\n",
    "       ls [OPTION]... [FILE]...\n",
    "\n",
    "DESCRIPTION\n",
    "       List information about the FILEs (the current directory by default).  Sort entries alphabetically if none of -cftuvSUX nor --sort is specified.\n",
    "\n",
    "       Mandatory arguments to long options are mandatory for short options too.\n",
    "\n",
    "       -a, --all\n",
    "              do not ignore entries starting with .\n",
    "\n",
    "       -A, --almost-all\n",
    "              do not list implied . and ..\n",
    "\n",
    "       --author\n",
    "              with -l, print the author of each file\n",
    "\n",
    "       -b, --escape\n",
    "              print C-style escapes for nongraphic characters\n",
    "\n",
    "       --block-size=SIZE\n",
    "              with -l, scale sizes by SIZE when printing them; e.g., '--block-size=M'; see SIZE format below\n",
    "\n",
    "       -B, --ignore-backups\n",
    "              do not list implied entries ending with ~\n",
    "\n",
    "       -c     with -lt: sort by, and show, ctime (time of last modification of file status information); with -l: show ctime and sort by name; otherwise: sort by ctime, newest first\n",
    "\n",
    "       -C     list entries by columns\n",
    "\n",
    "       --color[=WHEN]\n",
    "              colorize the output; WHEN can be 'always' (default if omitted), 'auto', or 'never'; more info below\n",
    "\n",
    "       -d, --directory\n",
    "              list directories themselves, not their contents\n",
    "\n",
    "       -D, --dired\n",
    "              generate output designed for Emacs' dired mode\n",
    "\n",
    "       -f     do not sort, enable -aU, disable -ls --color\n",
    "\n",
    "       -F, --classify\n",
    "              append indicator (one of */=>@|) to entries\n",
    "\n",
    "       --file-type\n",
    "              likewise, except do not append '*'\n",
    "\n",
    "       --format=WORD\n",
    "              across -x, commas -m, horizontal -x, long -l, single-column -1, verbose -l, vertical -C\n",
    "\n",
    "       --full-time\n",
    "              like -l --time-style=full-iso\n",
    "\n",
    "       -g     like -l, but do not list owner\n",
    "\n",
    "       --group-directories-first\n",
    "              group directories before files;\n",
    "\n",
    "              can be augmented with a --sort option, but any use of --sort=none (-U) disables grouping\n",
    "\n",
    "       -G, --no-group\n",
    "              in a long listing, don't print group names\n",
    "\n",
    "       -h, --human-readable\n",
    "              with -l and -s, print sizes like 1K 234M 2G etc.\n",
    "\n",
    "       --si   likewise, but use powers of 1000 not 1024\n",
    "\n",
    "       -H, --dereference-command-line\n",
    "              follow symbolic links listed on the command line\n",
    "\n",
    "       --dereference-command-line-symlink-to-dir\n",
    "              follow each command line symbolic link\n",
    "\n",
    "              that points to a directory\n",
    "\n",
    "       --hide=PATTERN\n",
    "              do not list implied entries matching shell PATTERN (overridden by -a or -A)\n",
    "\n",
    "       --hyperlink[=WHEN]\n",
    "              hyperlink file names; WHEN can be 'always' (default if omitted), 'auto', or 'never'\n",
    "\n",
    "       --indicator-style=WORD\n",
    "              append indicator with style WORD to entry names: none (default), slash (-p), file-type (--file-type), classify (-F)\n",
    "\n",
    "       -i, --inode\n",
    "              print the index number of each file\n",
    "\n",
    "       -I, --ignore=PATTERN\n",
    "              do not list implied entries matching shell PATTERN\n",
    "\n",
    "       -k, --kibibytes\n",
    "              default to 1024-byte blocks for disk usage; used only with -s and per directory totals\n",
    "\n",
    "       -l     use a long listing format\n",
    "\n",
    "       -L, --dereference\n",
    "              when showing file information for a symbolic link, show information for the file the link references rather than for the link itself\n",
    "\n",
    "       -m     fill width with a comma separated list of entries\n",
    "\n",
    "       -n, --numeric-uid-gid\n",
    "              like -l, but list numeric user and group IDs\n",
    "\n",
    "       -N, --literal\n",
    "              print entry names without quoting\n",
    "\n",
    "       -o     like -l, but do not list group information\n",
    "\n",
    "       -p, --indicator-style=slash\n",
    "              append / indicator to directories\n",
    "\n",
    "       -q, --hide-control-chars\n",
    "              print ? instead of nongraphic characters\n",
    "\n",
    "       --show-control-chars\n",
    "              show nongraphic characters as-is (the default, unless program is 'ls' and output is a terminal)\n",
    "\n",
    "       -Q, --quote-name\n",
    "              enclose entry names in double quotes\n",
    "\n",
    "       --quoting-style=WORD\n",
    "              use quoting style WORD for entry names: literal, locale, shell, shell-always, shell-escape, shell-escape-always, c, escape (overrides QUOTING_STYLE environment variable)\n",
    "\n",
    "       -r, --reverse\n",
    "              reverse order while sorting\n",
    "\n",
    "       -R, --recursive\n",
    "              list subdirectories recursively\n",
    "\n",
    "       -s, --size\n",
    "              print the allocated size of each file, in blocks\n",
    "\n",
    "       -S     sort by file size, largest first\n",
    "\n",
    "       --sort=WORD\n",
    "              sort by WORD instead of name: none (-U), size (-S), time (-t), version (-v), extension (-X)\n",
    "\n",
    "       --time=WORD\n",
    "              with -l, show time as WORD instead of default modification time: atime or access or use (-u); ctime or status (-c); also use specified time as sort key if --sort=time (newest first)\n",
    "\n",
    "       --time-style=TIME_STYLE\n",
    "              time/date format with -l; see TIME_STYLE below\n",
    "\n",
    "       -t     sort by modification time, newest first\n",
    "\n",
    "       -T, --tabsize=COLS\n",
    "              assume tab stops at each COLS instead of 8\n",
    "\n",
    "       -u     with -lt: sort by, and show, access time; with -l: show access time and sort by name; otherwise: sort by access time, newest first\n",
    "\n",
    "       -U     do not sort; list entries in directory order\n",
    "\n",
    "       -v     natural sort of (version) numbers within text\n",
    "\n",
    "       -w, --width=COLS\n",
    "              set output width to COLS.  0 means no limit\n",
    "\n",
    "       -x     list entries by lines instead of by columns\n",
    "\n",
    "       -X     sort alphabetically by entry extension\n",
    "\n",
    "       -Z, --context\n",
    "              print any security context of each file\n",
    "\n",
    "       -1     list one file per line.  Avoid '\\n' with -q or -b\n",
    "\n",
    "       --help display this help and exit\n",
    "\n",
    "       --version\n",
    "              output version information and exit\n",
    "\n",
    "       The SIZE argument is an integer and optional unit (example: 10K is 10*1024).  Units are K,M,G,T,P,E,Z,Y (powers of 1024) or KB,MB,... (powers of 1000).\n",
    "\n",
    "       The  TIME_STYLE  argument  can be full-iso, long-iso, iso, locale, or +FORMAT.  FORMAT is interpreted like in date(1).  If FORMAT is FORMAT1<newline>FORMAT2, then FORMAT1 applies to non-recent files\n",
    "       and FORMAT2 to recent files.  TIME_STYLE prefixed with 'posix-' takes effect only outside the POSIX locale.  Also the TIME_STYLE environment variable sets the default style to use.\n",
    "\n",
    "       Using color to distinguish file types is disabled both by default and with --color=never.  With --color=auto, ls emits color codes only when standard output is connected to a terminal.  The  LS_COL‐\n",
    "       ORS environment variable can change the settings.  Use the dircolors command to set it.\n",
    "\n",
    "   Exit status:\n",
    "       0      if OK,\n",
    "\n",
    "       1      if minor problems (e.g., cannot access subdirectory),\n",
    "\n",
    "       2      if serious trouble (e.g., cannot access command-line argument).\n",
    "\n",
    "AUTHOR\n",
    "       Written by Richard M. Stallman and David MacKenzie.\n",
    "\n",
    "REPORTING BUGS\n",
    "       GNU coreutils online help: <https://www.gnu.org/software/coreutils/>\n",
    "       Report ls translation bugs to <https://translationproject.org/team/>\n",
    "\n",
    "COPYRIGHT\n",
    "       Copyright © 2018 Free Software Foundation, Inc.  License GPLv3+: GNU GPL version 3 or later <https://gnu.org/licenses/gpl.html>.\n",
    "       This is free software: you are free to change and redistribute it.  There is NO WARRANTY, to the extent permitted by law.\n",
    "\n",
    "SEE ALSO\n",
    "       Full documentation at: <https://www.gnu.org/software/coreutils/ls>\n",
    "       or available locally via: info '(coreutils) ls invocation'\n",
    "\n",
    "GNU coreutils 8.30                                                                              September 2019                                                                                          LS(1)\n"
   ]
  },
  {
   "cell_type": "markdown",
   "id": "7f862096",
   "metadata": {},
   "source": [
    "The \"-\" is how you pass options to the command \"ls\"\n",
    "\n",
    "The option \"1\" in this case lists the files in a single column."
   ]
  },
  {
   "cell_type": "code",
   "execution_count": 1,
   "id": "61ecd813",
   "metadata": {},
   "outputs": [
    {
     "name": "stdout",
     "output_type": "stream",
     "text": [
      "00_PythonBasics.ipynb\n",
      "01_Numpy.ipynb\n",
      "02_NumpyComputation.ipynb\n",
      "03_Numpy_Computation.ipynb\n",
      "04_Numpy_SIR.ipynb\n",
      "05_Pandas.ipynb\n",
      "06_Pandas_Keeling.ipynb\n",
      "assignment1.ipynb\n",
      "bash_basics.ipynb\n",
      "CO2_MaunaLoa.txt\n",
      "co2_mlo_surface-flask_1_ccgg_event.txt\n",
      "co2_mm_mlo.txt\n",
      "install_modules_python3.8.ipynb\n",
      "LICENSE\n",
      "Matplotlib_intro.ipynb\n",
      "solutions\n",
      "Time_series_and_Linear_Regression_Keeling_curve.ipynb\n",
      "typescript\n"
     ]
    }
   ],
   "source": [
    "!ls -1"
   ]
  },
  {
   "cell_type": "markdown",
   "id": "cf72092a",
   "metadata": {},
   "source": [
    "<br>\n",
    "An option of -l shows a \"long listing\" with more details. The first column gives information on file permissions. More on that later. The 2nd column shows the number of hard links. The 3rd and 4th columns show the owner and group information (more on that later). The 5th column shows the size of the file in bytes. The next column shows the time when the file was last modified. Finally we see the name of the file."
   ]
  },
  {
   "cell_type": "code",
   "execution_count": 2,
   "id": "5885a09f",
   "metadata": {},
   "outputs": [
    {
     "name": "stdout",
     "output_type": "stream",
     "text": [
      "total 4352\n",
      "-rw-r--r--. 1 1000740000 1000740000   46045 Dec  7 07:17 00_PythonBasics.ipynb\n",
      "-rw-r--r--. 1 1000740000 1000740000   48821 Dec  7 14:13 01_Numpy.ipynb\n",
      "-rw-r--r--. 1 1000740000 1000740000  130289 Dec  7 14:01 02_NumpyComputation.ipynb\n",
      "-rw-r--r--. 1 1000740000 1000740000   37856 Dec  9 10:54 03_Numpy_Computation.ipynb\n",
      "-rw-r--r--. 1 1000740000 1000740000   55202 Dec  9 10:18 04_Numpy_SIR.ipynb\n",
      "-rw-r--r--. 1 1000740000 1000740000   88767 Dec  9 12:44 05_Pandas.ipynb\n",
      "-rw-r--r--. 1 1000740000 1000740000  110717 Dec  5 09:51 06_Pandas_Keeling.ipynb\n",
      "-rw-r--r--. 1 1000740000 1000740000     932 Dec  9 10:42 assignment1.ipynb\n",
      "-rw-r--r--. 1 1000740000 1000740000   12013 Dec  9 14:23 bash_basics.ipynb\n",
      "-rw-r--r--. 1 1000740000 1000740000 1633313 Nov  9 14:39 CO2_MaunaLoa.txt\n",
      "-rw-r--r--. 1 1000740000 1000740000 1584183 Nov  9 15:14 co2_mlo_surface-flask_1_ccgg_event.txt\n",
      "-rw-r--r--. 1 1000740000 1000740000   56287 Nov 16 13:58 co2_mm_mlo.txt\n",
      "-rw-r--r--. 1 1000740000 1000740000   10819 Dec  5 09:51 install_modules_python3.8.ipynb\n",
      "-rw-r--r--. 1 1000740000 1000740000    1073 Nov 11 14:12 LICENSE\n",
      "-rw-r--r--. 1 1000740000 1000740000  531360 Dec  6 10:22 Matplotlib_intro.ipynb\n",
      "drwxr-sr-x. 3 1000740000 1000740000    4096 Dec  6 10:13 solutions\n",
      "-rw-r--r--. 1 1000740000 1000740000   67735 Nov 16 14:00 Time_series_and_Linear_Regression_Keeling_curve.ipynb\n",
      "-rw-r--r--. 1 1000740000 1000740000    4602 Nov 30 12:54 typescript\n"
     ]
    }
   ],
   "source": [
    "!ls -l"
   ]
  },
  {
   "cell_type": "markdown",
   "id": "666360f1",
   "metadata": {},
   "source": [
    "<br>\n",
    "\n",
    "ls with options \"s\" and \"h\" show the file **s**izes in **h**uman readable format"
   ]
  },
  {
   "cell_type": "code",
   "execution_count": 10,
   "id": "fbdfac7e",
   "metadata": {},
   "outputs": [
    {
     "name": "stdout",
     "output_type": "stream",
     "text": [
      "total 4.3M\n",
      " 48K 00_PythonBasics.ipynb\n",
      " 48K 01_Numpy.ipynb\n",
      "128K 02_NumpyComputation.ipynb\n",
      " 40K 03_Numpy_Computation.ipynb\n",
      " 56K 04_Numpy_SIR.ipynb\n",
      " 88K 05_Pandas.ipynb\n",
      "112K 06_Pandas_Keeling.ipynb\n",
      "4.0K assignment1.ipynb\n",
      " 16K bash_basics.ipynb\n",
      "1.6M CO2_MaunaLoa.txt\n",
      "1.6M co2_mlo_surface-flask_1_ccgg_event.txt\n",
      " 56K co2_mm_mlo.txt\n",
      " 12K install_modules_python3.8.ipynb\n",
      "4.0K LICENSE\n",
      "520K Matplotlib_intro.ipynb\n",
      "4.0K solutions\n",
      " 68K Time_series_and_Linear_Regression_Keeling_curve.ipynb\n",
      "8.0K typescript\n"
     ]
    }
   ],
   "source": [
    "!ls -sh"
   ]
  },
  {
   "cell_type": "code",
   "execution_count": 11,
   "id": "a9c1e929",
   "metadata": {},
   "outputs": [
    {
     "name": "stdout",
     "output_type": "stream",
     "text": [
      "total 4.3M\n",
      "1.6M -rw-r--r--. 1 1000740000 1000740000 1.6M Nov  9 14:39 CO2_MaunaLoa.txt\n",
      "1.6M -rw-r--r--. 1 1000740000 1000740000 1.6M Nov  9 15:14 co2_mlo_surface-flask_1_ccgg_event.txt\n",
      "4.0K -rw-r--r--. 1 1000740000 1000740000 1.1K Nov 11 14:12 LICENSE\n",
      " 56K -rw-r--r--. 1 1000740000 1000740000  55K Nov 16 13:58 co2_mm_mlo.txt\n",
      " 68K -rw-r--r--. 1 1000740000 1000740000  67K Nov 16 14:00 Time_series_and_Linear_Regression_Keeling_curve.ipynb\n",
      "8.0K -rw-r--r--. 1 1000740000 1000740000 4.5K Nov 30 12:54 typescript\n",
      "112K -rw-r--r--. 1 1000740000 1000740000 109K Dec  5 09:51 06_Pandas_Keeling.ipynb\n",
      " 12K -rw-r--r--. 1 1000740000 1000740000  11K Dec  5 09:51 install_modules_python3.8.ipynb\n",
      "4.0K drwxr-sr-x. 3 1000740000 1000740000 4.0K Dec  6 10:13 solutions\n",
      "520K -rw-r--r--. 1 1000740000 1000740000 519K Dec  6 10:22 Matplotlib_intro.ipynb\n",
      " 48K -rw-r--r--. 1 1000740000 1000740000  45K Dec  7 07:17 00_PythonBasics.ipynb\n",
      "128K -rw-r--r--. 1 1000740000 1000740000 128K Dec  7 14:01 02_NumpyComputation.ipynb\n",
      " 48K -rw-r--r--. 1 1000740000 1000740000  48K Dec  7 14:13 01_Numpy.ipynb\n",
      " 56K -rw-r--r--. 1 1000740000 1000740000  54K Dec  9 10:18 04_Numpy_SIR.ipynb\n",
      "4.0K -rw-r--r--. 1 1000740000 1000740000  932 Dec  9 10:42 assignment1.ipynb\n",
      " 40K -rw-r--r--. 1 1000740000 1000740000  37K Dec  9 10:54 03_Numpy_Computation.ipynb\n",
      " 88K -rw-r--r--. 1 1000740000 1000740000  87K Dec  9 12:44 05_Pandas.ipynb\n",
      " 20K -rw-r--r--. 1 1000740000 1000740000  17K Dec  9 15:36 bash_basics.ipynb\n"
     ]
    }
   ],
   "source": [
    "!ls -lrtsh"
   ]
  },
  {
   "cell_type": "markdown",
   "id": "db45cdfe",
   "metadata": {},
   "source": [
    "<br>\n",
    "\n",
    "### cd: Change Directory \n",
    "\n",
    "Next, we try out the \"cd\" command. \n",
    "\n",
    "```\n",
    "sh-4.4$ mkdir newFolder\n",
    "sh-4.4$ ls\n",
    "co2_mm_mlo.txt  lost+found  MAR440  MAR440_PythonWorkshop.zip  MAV110_DEC2021  miniconda3  Miniconda3-py38_4.10.3-Linux-x86_64.sh  newFolder  shared  typescript\n",
    "sh-4.4$ cd newFolder\n",
    "sh-4.4$ ls\n",
    "sh-4.4$ pwd\n",
    "/opt/app-root/src/newFolder\n",
    "sh-4.4$ cd ../\n",
    "sh-4.4$ pwd\n",
    "/opt/app-root/src\n",
    "sh-4.4$ ls\n",
    "co2_mm_mlo.txt  lost+found  MAR440  MAR440_PythonWorkshop.zip  MAV110_DEC2021  miniconda3  Miniconda3-py38_4.10.3-Linux-x86_64.sh  newFolder  shared  typescript\n",
    "sh-4.4$ cd ./MAV110_DEC2021/solutions/\n",
    "sh-4.4$ ls\n",
    "sol_00_01.py  sol_02_04.py       sol_disp_scipy.py        sol_linear_regression.py  sol_np_reshape.py       sol_scipy_SIR.py\n",
    "sol_00_02.py  sol_dispersion.py  sol_linear_curve_fit.py  sol_mult.py               sol_poly2_curve_fit.py\n",
    "sh-4.4$ pwd\n",
    "/opt/app-root/src/MAV110_DEC2021/solutions\n",
    "sh-4.4$ cd ../../\n",
    "sh-4.4$ pwd\n",
    "/opt/app-root/src\n",
    "```\n",
    "\n",
    "We start any path in Linux with the forward slash \"/\". To access the current directory, we use dot-slash: \"./\"\n",
    "\n",
    "A path of \"../\" will take you one directory level up. You can go up multiple levels by having multiple dot-dot-slashes: ../../../ this will take you 3 levels up\n",
    "\n",
    "**pwd** will print out the current working directory."
   ]
  },
  {
   "cell_type": "code",
   "execution_count": 15,
   "id": "66876207",
   "metadata": {},
   "outputs": [
    {
     "name": "stdout",
     "output_type": "stream",
     "text": [
      "Hello World!\n"
     ]
    }
   ],
   "source": [
    "!echo \"Hello World!\""
   ]
  },
  {
   "cell_type": "code",
   "execution_count": 16,
   "id": "64d0223f",
   "metadata": {},
   "outputs": [],
   "source": [
    "!echo \"Hello World!\" > helloWorld.txt"
   ]
  },
  {
   "cell_type": "code",
   "execution_count": 18,
   "id": "4c75d5dc",
   "metadata": {},
   "outputs": [
    {
     "name": "stdout",
     "output_type": "stream",
     "text": [
      "total 4.3M\n",
      "1.6M -rw-r--r--. 1 1000740000 1000740000 1.6M Nov  9 14:39 CO2_MaunaLoa.txt\n",
      "1.6M -rw-r--r--. 1 1000740000 1000740000 1.6M Nov  9 15:14 co2_mlo_surface-flask_1_ccgg_event.txt\n",
      "4.0K -rw-r--r--. 1 1000740000 1000740000 1.1K Nov 11 14:12 LICENSE\n",
      " 56K -rw-r--r--. 1 1000740000 1000740000  55K Nov 16 13:58 co2_mm_mlo.txt\n",
      " 68K -rw-r--r--. 1 1000740000 1000740000  67K Nov 16 14:00 Time_series_and_Linear_Regression_Keeling_curve.ipynb\n",
      "8.0K -rw-r--r--. 1 1000740000 1000740000 4.5K Nov 30 12:54 typescript\n",
      "112K -rw-r--r--. 1 1000740000 1000740000 109K Dec  5 09:51 06_Pandas_Keeling.ipynb\n",
      " 12K -rw-r--r--. 1 1000740000 1000740000  11K Dec  5 09:51 install_modules_python3.8.ipynb\n",
      "4.0K drwxr-sr-x. 3 1000740000 1000740000 4.0K Dec  6 10:13 solutions\n",
      "520K -rw-r--r--. 1 1000740000 1000740000 519K Dec  6 10:22 Matplotlib_intro.ipynb\n",
      " 48K -rw-r--r--. 1 1000740000 1000740000  45K Dec  7 07:17 00_PythonBasics.ipynb\n",
      "128K -rw-r--r--. 1 1000740000 1000740000 128K Dec  7 14:01 02_NumpyComputation.ipynb\n",
      " 48K -rw-r--r--. 1 1000740000 1000740000  48K Dec  7 14:13 01_Numpy.ipynb\n",
      " 56K -rw-r--r--. 1 1000740000 1000740000  54K Dec  9 10:18 04_Numpy_SIR.ipynb\n",
      "4.0K -rw-r--r--. 1 1000740000 1000740000  932 Dec  9 10:42 assignment1.ipynb\n",
      " 40K -rw-r--r--. 1 1000740000 1000740000  37K Dec  9 10:54 03_Numpy_Computation.ipynb\n",
      " 88K -rw-r--r--. 1 1000740000 1000740000  87K Dec  9 12:44 05_Pandas.ipynb\n",
      " 24K -rw-r--r--. 1 1000740000 1000740000  21K Dec  9 15:57 bash_basics.ipynb\n",
      "4.0K -rw-r--r--. 1 1000740000 1000740000   13 Dec  9 15:57 helloWorld.txt\n"
     ]
    }
   ],
   "source": [
    "!ls -lrtsh"
   ]
  },
  {
   "cell_type": "code",
   "execution_count": 19,
   "id": "71af3403",
   "metadata": {},
   "outputs": [
    {
     "name": "stdout",
     "output_type": "stream",
     "text": [
      "Hello World!\n"
     ]
    }
   ],
   "source": [
    "!cat helloWorld.txt"
   ]
  },
  {
   "cell_type": "markdown",
   "id": "25f811ea",
   "metadata": {},
   "source": [
    "### Deleting files and folders\n",
    "\n",
    "Add the recursive option **-r** when you want to delete a directory and all it's subdirectories."
   ]
  },
  {
   "cell_type": "code",
   "execution_count": null,
   "id": "d933a862",
   "metadata": {},
   "outputs": [],
   "source": [
    "!rm helloWorld.txt"
   ]
  },
  {
   "cell_type": "code",
   "execution_count": 16,
   "id": "1caa3529",
   "metadata": {},
   "outputs": [],
   "source": [
    "!echo \"Hello World!\" > helloWorld.txt"
   ]
  },
  {
   "cell_type": "markdown",
   "id": "eff67787",
   "metadata": {},
   "source": [
    "### Linux users and file permissions\n",
    "\n",
    "Individual users have varying levels of access to files. Permissions are set on each individual file that determine if users can **r**ead, **w**rite, and e**x**ecute the file.\n",
    "\n",
    "Some users also have administrator privileges that allows you to modify protected system files, add or remove users, change permissions and ownership of files etc. Execute the command **id** to see if your user ID is part of the sudo (administrator) group"
   ]
  },
  {
   "cell_type": "code",
   "execution_count": 20,
   "id": "9ba0bd9a",
   "metadata": {},
   "outputs": [
    {
     "name": "stdout",
     "output_type": "stream",
     "text": [
      "uid=1000740000(1000740000) gid=0(root) groups=0(root),1000740000\n"
     ]
    }
   ],
   "source": [
    "!id"
   ]
  },
  {
   "cell_type": "markdown",
   "id": "f1f6e684",
   "metadata": {},
   "source": [
    "We see that we are not part of the sudo group. But the same command on my own laptop shows me that I have administrator privileges:\n",
    "\n",
    "```\n",
    "~$id\n",
    "uid=1000(aditya) gid=1000(aditya) groups=1000(aditya),4(adm),24(cdrom),27(sudo),30(dip),46(plugdev),104(input),116(lpadmin),126(sambashare),129(kismet),140(vboxusers)\n",
    "```"
   ]
  },
  {
   "cell_type": "markdown",
   "id": "3c78e02f",
   "metadata": {},
   "source": [
    "<br>\n",
    "\n",
    "Let's understand file permissions\n",
    "\n",
    "```\n",
    "sh-4.4$ \n",
    "sh-4.4$ cd shared\n",
    "sh-4.4$ ls -l\n",
    "total 28\n",
    "drwxr-xr-x. 5 1000740000 root 4096 Dec  7 07:43 archive\n",
    "drwxr-xr-x. 3 1000740000 root 4096 May  3  2021 Exercises\n",
    "drwxr-xr-x. 2 1000740000 root 4096 Mar 26  2021 mar450\n",
    "drwxr-xr-x. 4 1000740000 root 4096 Oct 29 09:47 mav102_HT21\n",
    "drwxr-xr-x. 3 1000740000 root 4096 Dec  7 07:54 mav104_HT21\n",
    "drwxr-xr-x. 3 1000740000 root 4096 Dec  6 10:45 mav110_PythonModule\n",
    "drwxr-xr-x. 3 1000740000 root 4096 Mar 26  2021 tmp\n",
    "```\n",
    "\n",
    "The very first letter \"d\" shows that the file is a directory. Note that in Linux, directories are just files that contain the names of other files. The next 3 letters indicate that the owner has permissions to read (r), write (w), and execute (x). The next 3 places contain permissions for the group, and the next 3 places are permissions for all other users."
   ]
  },
  {
   "cell_type": "markdown",
   "id": "f21ae975",
   "metadata": {},
   "source": [
    "How can you change file permissions?"
   ]
  },
  {
   "cell_type": "code",
   "execution_count": 23,
   "id": "e6519292",
   "metadata": {},
   "outputs": [
    {
     "name": "stdout",
     "output_type": "stream",
     "text": [
      "-rw-r--r--. 1 1000740000 1000740000 1633313 Nov  9 14:39 CO2_MaunaLoa.txt\n",
      "-rw-r--r--. 1 1000740000 1000740000 1584183 Nov  9 15:14 co2_mlo_surface-flask_1_ccgg_event.txt\n",
      "-rw-r--r--. 1 1000740000 1000740000   56287 Nov 16 13:58 co2_mm_mlo.txt\n",
      "-rw-r--r--. 1 1000740000 1000740000      13 Dec  9 15:57 helloWorld.txt\n"
     ]
    }
   ],
   "source": [
    "!ls *.txt -l"
   ]
  },
  {
   "cell_type": "markdown",
   "id": "d102770e",
   "metadata": {},
   "source": [
    "The * allows us to match patterns."
   ]
  },
  {
   "cell_type": "code",
   "execution_count": 24,
   "id": "55d37516",
   "metadata": {},
   "outputs": [],
   "source": [
    "!chmod u+x helloWorld.txt"
   ]
  },
  {
   "cell_type": "code",
   "execution_count": 25,
   "id": "2404dab0",
   "metadata": {},
   "outputs": [
    {
     "name": "stdout",
     "output_type": "stream",
     "text": [
      "-rw-r--r--. 1 1000740000 1000740000 1633313 Nov  9 14:39 CO2_MaunaLoa.txt\n",
      "-rw-r--r--. 1 1000740000 1000740000 1584183 Nov  9 15:14 co2_mlo_surface-flask_1_ccgg_event.txt\n",
      "-rw-r--r--. 1 1000740000 1000740000   56287 Nov 16 13:58 co2_mm_mlo.txt\n",
      "-rwxr--r--. 1 1000740000 1000740000      13 Dec  9 15:57 helloWorld.txt\n"
     ]
    }
   ],
   "source": [
    "!ls *.txt -l"
   ]
  },
  {
   "cell_type": "markdown",
   "id": "431ad70e",
   "metadata": {},
   "source": [
    "Notice the \"x\" has now appeared in our file permissions of \"helloWorld.txt\"\n",
    "\n",
    "To add permissions for the group: chmod g+rw-x <br>\n",
    "This would add read and write permissions to the group, but remove execute permissions.\n",
    "\n",
    "To remove permissions for all users: chmod a-rwx<br>\n",
    "This would remove all permissions for all other users.\n",
    "\n",
    "We used the command \"chmod\" to change the permission of the file and have made it executable for the owner of the file. Notice that other users do not have execute or write permissions.\n",
    "\n",
    "Let's now rename our file using the move command: **mv**"
   ]
  },
  {
   "cell_type": "code",
   "execution_count": 27,
   "id": "62b8c9b1",
   "metadata": {},
   "outputs": [],
   "source": [
    "!mv ./helloWorld.txt ./helloEarth.txt"
   ]
  },
  {
   "cell_type": "code",
   "execution_count": 29,
   "id": "d0f804f4",
   "metadata": {},
   "outputs": [
    {
     "name": "stdout",
     "output_type": "stream",
     "text": [
      "-rw-r--r--. 1 1000740000 1000740000 1633313 Nov  9 14:39 CO2_MaunaLoa.txt\n",
      "-rw-r--r--. 1 1000740000 1000740000 1584183 Nov  9 15:14 co2_mlo_surface-flask_1_ccgg_event.txt\n",
      "-rw-r--r--. 1 1000740000 1000740000   56287 Nov 16 13:58 co2_mm_mlo.txt\n",
      "-rwxr--r--. 1 1000740000 1000740000      13 Dec  9 15:57 helloEarth.txt\n"
     ]
    }
   ],
   "source": [
    "!ls *.txt -l"
   ]
  },
  {
   "cell_type": "markdown",
   "id": "4b581f37",
   "metadata": {},
   "source": [
    "**cp**: copy files from source to destination"
   ]
  },
  {
   "cell_type": "code",
   "execution_count": 30,
   "id": "d91c4d0f",
   "metadata": {},
   "outputs": [],
   "source": [
    "!cp ./helloEarth.txt ./helloWorld_copy.txt"
   ]
  },
  {
   "cell_type": "code",
   "execution_count": 31,
   "id": "1272d6f9",
   "metadata": {},
   "outputs": [
    {
     "name": "stdout",
     "output_type": "stream",
     "text": [
      "-rw-r--r--. 1 1000740000 1000740000 1633313 Nov  9 14:39 CO2_MaunaLoa.txt\n",
      "-rw-r--r--. 1 1000740000 1000740000 1584183 Nov  9 15:14 co2_mlo_surface-flask_1_ccgg_event.txt\n",
      "-rw-r--r--. 1 1000740000 1000740000   56287 Nov 16 13:58 co2_mm_mlo.txt\n",
      "-rwxr--r--. 1 1000740000 1000740000      13 Dec  9 15:57 helloEarth.txt\n",
      "-rwxr--r--. 1 1000740000 1000740000      13 Dec  9 16:30 helloWorld_copy.txt\n"
     ]
    }
   ],
   "source": [
    "!ls *.txt -l"
   ]
  },
  {
   "cell_type": "markdown",
   "id": "43dbfb0f",
   "metadata": {},
   "source": [
    "### Relative path versus absolute path\n",
    "\n",
    "We have been using relative paths with ./\n",
    "\n",
    "But we could have also specified the full path to the current directory rather than the relative paths. The commands would still behave in the same way. It is just more convenient to write out the relative paths."
   ]
  },
  {
   "cell_type": "code",
   "execution_count": 33,
   "id": "261eaa9a",
   "metadata": {},
   "outputs": [
    {
     "name": "stdout",
     "output_type": "stream",
     "text": [
      "/opt/app-root/src/MAV110_DEC2021\n"
     ]
    }
   ],
   "source": [
    "!pwd"
   ]
  },
  {
   "cell_type": "code",
   "execution_count": 34,
   "id": "2bd29d57",
   "metadata": {},
   "outputs": [
    {
     "name": "stdout",
     "output_type": "stream",
     "text": [
      "00_PythonBasics.ipynb\n",
      "01_Numpy.ipynb\n",
      "02_NumpyComputation.ipynb\n",
      "03_Numpy_Computation.ipynb\n",
      "04_Numpy_SIR.ipynb\n",
      "05_Pandas.ipynb\n",
      "06_Pandas_Keeling.ipynb\n",
      "assignment1.ipynb\n",
      "bash_basics.ipynb\n",
      "CO2_MaunaLoa.txt\n",
      "co2_mlo_surface-flask_1_ccgg_event.txt\n",
      "co2_mm_mlo.txt\n",
      "helloEarth.txt\n",
      "helloWorld_copy.txt\n",
      "install_modules_python3.8.ipynb\n",
      "LICENSE\n",
      "Matplotlib_intro.ipynb\n",
      "solutions\n",
      "Time_series_and_Linear_Regression_Keeling_curve.ipynb\n",
      "typescript\n"
     ]
    }
   ],
   "source": [
    "!ls /opt/app-root/src/MAV110_DEC2021/"
   ]
  },
  {
   "cell_type": "markdown",
   "id": "56423ff3",
   "metadata": {},
   "source": [
    "### Compressing and Uncompressing files\n",
    "\n",
    "**Compression** <br>\n",
    "**tar** -cvf name_of_archive.tzr.gz /path/to/file1 /path/to/file2\n",
    "\n",
    "**Uncompression** <br>\n",
    "**tar** -xvf name_of_archive.tzr.gz -C /path/to/output/directory\n"
   ]
  },
  {
   "cell_type": "code",
   "execution_count": 35,
   "id": "c10f3bc2",
   "metadata": {},
   "outputs": [
    {
     "name": "stdout",
     "output_type": "stream",
     "text": [
      "./helloEarth.txt\n",
      "./helloWorld_copy.txt\n"
     ]
    }
   ],
   "source": [
    "!tar -cvf Hellos.tar.gz ./helloEarth.txt ./helloWorld_copy.txt"
   ]
  },
  {
   "cell_type": "code",
   "execution_count": 36,
   "id": "d243ecaa",
   "metadata": {},
   "outputs": [],
   "source": [
    "!mkdir Hellos"
   ]
  },
  {
   "cell_type": "code",
   "execution_count": 37,
   "id": "8a4bcfc0",
   "metadata": {},
   "outputs": [
    {
     "name": "stdout",
     "output_type": "stream",
     "text": [
      "./helloEarth.txt\n",
      "./helloWorld_copy.txt\n"
     ]
    }
   ],
   "source": [
    "!tar -xvf Hellos.tar.gz -C ./Hellos/"
   ]
  },
  {
   "cell_type": "code",
   "execution_count": 38,
   "id": "c4d3f011",
   "metadata": {},
   "outputs": [
    {
     "name": "stdout",
     "output_type": "stream",
     "text": [
      "helloEarth.txt\thelloWorld_copy.txt\n"
     ]
    }
   ],
   "source": [
    "!ls ./Hellos"
   ]
  },
  {
   "cell_type": "code",
   "execution_count": 39,
   "id": "ccf4d199",
   "metadata": {},
   "outputs": [
    {
     "name": "stdout",
     "output_type": "stream",
     "text": [
      "  adding: helloEarth.txt (stored 0%)\n",
      "  adding: helloWorld_copy.txt (stored 0%)\n"
     ]
    }
   ],
   "source": [
    "!zip Hellos.zip ./helloEarth.txt ./helloWorld_copy.txt"
   ]
  },
  {
   "cell_type": "code",
   "execution_count": 40,
   "id": "91f07d76",
   "metadata": {},
   "outputs": [],
   "source": [
    "!rm ./Hellos/*"
   ]
  },
  {
   "cell_type": "code",
   "execution_count": 41,
   "id": "7fb44d24",
   "metadata": {},
   "outputs": [
    {
     "name": "stdout",
     "output_type": "stream",
     "text": [
      "Archive:  Hellos.zip\n",
      " extracting: ./Hellos/helloEarth.txt  \n",
      " extracting: ./Hellos/helloWorld_copy.txt  \n"
     ]
    }
   ],
   "source": [
    "!unzip Hellos.zip -d ./Hellos/"
   ]
  },
  {
   "cell_type": "code",
   "execution_count": 42,
   "id": "5739c34e",
   "metadata": {},
   "outputs": [
    {
     "name": "stdout",
     "output_type": "stream",
     "text": [
      "helloEarth.txt\thelloWorld_copy.txt\n"
     ]
    }
   ],
   "source": [
    "!ls ./Hellos"
   ]
  },
  {
   "cell_type": "markdown",
   "id": "7d65703c",
   "metadata": {},
   "source": [
    "### Downloading with wget\n",
    "\n",
    "**wget source_URL**"
   ]
  },
  {
   "cell_type": "code",
   "execution_count": 3,
   "id": "91e280d1",
   "metadata": {},
   "outputs": [
    {
     "name": "stdout",
     "output_type": "stream",
     "text": [
      "--2021-12-09 17:12:22--  https://github.com/adityarn/MAR440_PythonModule/blob/master/length_of_pseudocalanus_females.txt\n",
      "Resolving github.com (github.com)... 140.82.121.4\n",
      "Connecting to github.com (github.com)|140.82.121.4|:443... connected.\n",
      "HTTP request sent, awaiting response... 200 OK\n",
      "Length: unspecified [text/html]\n",
      "Saving to: ‘length_of_pseudocalanus_females.txt’\n",
      "\n",
      "length_of_pseudocal     [ <=>                ] 202.97K  --.-KB/s    in 0.08s   \n",
      "\n",
      "2021-12-09 17:12:23 (2.54 MB/s) - ‘length_of_pseudocalanus_females.txt’ saved [207844]\n",
      "\n"
     ]
    }
   ],
   "source": [
    "!wget https://github.com/adityarn/MAR440_PythonModule/blob/master/length_of_pseudocalanus_females.txt"
   ]
  },
  {
   "cell_type": "code",
   "execution_count": 6,
   "id": "7d041529",
   "metadata": {},
   "outputs": [
    {
     "name": "stdout",
     "output_type": "stream",
     "text": [
      "1.6M -rw-r--r--. 1 1000740000 1000740000 1.6M Nov  9 14:39 CO2_MaunaLoa.txt\n",
      "1.6M -rw-r--r--. 1 1000740000 1000740000 1.6M Nov  9 15:14 co2_mlo_surface-flask_1_ccgg_event.txt\n",
      " 56K -rw-r--r--. 1 1000740000 1000740000  55K Nov 16 13:58 co2_mm_mlo.txt\n",
      "4.0K -rwxr--r--. 1 1000740000 1000740000   13 Dec  9 15:57 helloEarth.txt\n",
      "4.0K -rwxr--r--. 1 1000740000 1000740000   13 Dec  9 16:30 helloWorld_copy.txt\n",
      "204K -rw-r--r--. 1 1000740000 1000740000 203K Dec  9 17:12 length_of_pseudocalanus_females.txt\n"
     ]
    }
   ],
   "source": [
    "!ls -lrtsh *.txt"
   ]
  },
  {
   "cell_type": "markdown",
   "id": "6e4cf70c",
   "metadata": {},
   "source": [
    "### Environment variables"
   ]
  },
  {
   "cell_type": "code",
   "execution_count": 9,
   "id": "40a55206",
   "metadata": {
    "collapsed": true,
    "jupyter": {
     "outputs_hidden": true
    }
   },
   "outputs": [
    {
     "name": "stdout",
     "output_type": "stream",
     "text": [
      "EXPOSER_64IMKDP83GTUFFGSF4RQAVUP4KJF81PHDM5AQMTBRNLRU37GQ0C0_SERVICE_PORT_HTTP=80\n",
      "EXPOSER_87JJR2HQ4FMVD5PR727HTC365OFT50DD17RPVBJ8A87MKU9QSJHG_PORT=tcp://172.30.69.95:80\n",
      "PYTHONUNBUFFERED=1\n",
      "LC_ALL=en_US.UTF-8\n",
      "EXPOSER_R868O58LGUVRI6G6TODBP7IC3CFGC48PGTJH193JNS548VDPBTUG_PORT_80_TCP=tcp://172.30.166.17:80\n",
      "JUPYTERHUB_CLIENT_ID=jupyterhub-user-xnarad\n",
      "EXPOSER_HQBGTGNMHF0J7VO9R2D46G7LD0S66POVSSM1SN7A2JOOTCEM93H0_SERVICE_PORT_HTTP=80\n",
      "THAMOS_NO_PROGRESSBAR=1\n",
      "EXPOSER_MSA6QVLAIT3ITQOF7EMLQL9E0UM4MKCTJ0DTCJGLRS6BTB9OO1P0_PORT_80_TCP_PROTO=tcp\n",
      "EXPOSER_R868O58LGUVRI6G6TODBP7IC3CFGC48PGTJH193JNS548VDPBTUG_SERVICE_PORT_HTTP=80\n",
      "EXPOSER_R67D3GL1JUSEFSUBQ0LCS6B2K9226NHOM42F1QJNSM7MR7JLGM40_PORT_80_TCP=tcp://172.30.163.19:80\n",
      "EXPOSER_RIIL586EG8NVHVV9MEU79ARLKC4I23QOS2M7S17UM9JHEIBER230_SERVICE_PORT=80\n",
      "EXPOSER_R868O58LGUVRI6G6TODBP7IC3CFGC48PGTJH193JNS548VDPBTUG_PORT_80_TCP_ADDR=172.30.166.17\n",
      "JUPYTERHUB_ADMIN_ACCESS=1\n",
      "JUPYTERHUB_SERVICE_PORT=8080\n",
      "_=/usr/bin/env\n",
      "LANG=en_US.UTF-8\n",
      "EXPOSER_8D45AQM67CGBVVBLEGR1RC7GPMARSHH8NFN3094PE41U3SSH4KIG_SERVICE_HOST=172.30.217.27\n",
      "EXPOSER_64IMKDP83GTUFFGSF4RQAVUP4KJF81PHDM5AQMTBRNLRU37GQ0C0_PORT_80_TCP_PROTO=tcp\n",
      "SUMMARY=Thoth's Source-to-Image for Python 3.8 applications\n",
      "EXPOSER_8D45AQM67CGBVVBLEGR1RC7GPMARSHH8NFN3094PE41U3SSH4KIG_PORT_80_TCP_PROTO=tcp\n",
      "EXPOSER_R67D3GL1JUSEFSUBQ0LCS6B2K9226NHOM42F1QJNSM7MR7JLGM40_SERVICE_PORT=80\n",
      "EXPOSER_SQ2K09916KVPR2AF33IFOFVFC98ERBB7OI0SP0U1D7UE3QLM5ONG_SERVICE_PORT_HTTP=80\n",
      "HOSTNAME=jupyterhub-nb-xnarad\n",
      "EXPOSER_R67D3GL1JUSEFSUBQ0LCS6B2K9226NHOM42F1QJNSM7MR7JLGM40_PORT=tcp://172.30.163.19:80\n",
      "EXPOSER_R67D3GL1JUSEFSUBQ0LCS6B2K9226NHOM42F1QJNSM7MR7JLGM40_PORT_80_TCP_PORT=80\n",
      "THOTH_ERROR_FALLBACK=1\n",
      "EXPOSER_H7N0PDN9280FNPOV6NEMFTJ7F4SM8OHOAO7VQT2Q83U1ICLRCT70_PORT_80_TCP_ADDR=172.30.209.142\n",
      "JUPYTERHUB_DB_SERVICE_PORT_5432_TCP=5432\n",
      "EXPOSER_IKLPMPER8EBN9MKQESFOH8TTPHVHEA0QTN9A94JF2KH6N3K7APVG_PORT_80_TCP=tcp://172.30.117.14:80\n",
      "EXPOSER_87JJR2HQ4FMVD5PR727HTC365OFT50DD17RPVBJ8A87MKU9QSJHG_PORT_80_TCP_PORT=80\n",
      "EXPOSER_MSA6QVLAIT3ITQOF7EMLQL9E0UM4MKCTJ0DTCJGLRS6BTB9OO1P0_SERVICE_PORT_HTTP=80\n",
      "JUPYTERHUB_DB_SERVICE_PORT=5432\n",
      "STI_SCRIPTS_URL=image:///usr/libexec/s2i\n",
      "JUPYTERHUB_PORT_8081_TCP_ADDR=172.30.127.251\n",
      "EXPOSER_SQ2K09916KVPR2AF33IFOFVFC98ERBB7OI0SP0U1D7UE3QLM5ONG_PORT_80_TCP_PROTO=tcp\n",
      "JUPYTERHUB_SERVICE_PORT_8081_TCP=8081\n",
      "EXPOSER_RIIL586EG8NVHVV9MEU79ARLKC4I23QOS2M7S17UM9JHEIBER230_PORT_80_TCP=tcp://172.30.252.184:80\n",
      "EXPOSER_R67D3GL1JUSEFSUBQ0LCS6B2K9226NHOM42F1QJNSM7MR7JLGM40_SERVICE_HOST=172.30.163.19\n",
      "EXPOSER_H7N0PDN9280FNPOV6NEMFTJ7F4SM8OHOAO7VQT2Q83U1ICLRCT70_SERVICE_HOST=172.30.209.142\n",
      "EXPOSER_R868O58LGUVRI6G6TODBP7IC3CFGC48PGTJH193JNS548VDPBTUG_SERVICE_PORT=80\n",
      "EXPOSER_RIIL586EG8NVHVV9MEU79ARLKC4I23QOS2M7S17UM9JHEIBER230_PORT=tcp://172.30.252.184:80\n",
      "DESCRIPTION=Thoth's Source-to-Image for Python 3.8 applications. This toolchain is based on Red Hat UBI8. It includes pipenv.\n",
      "PYTHONIOENCODING=UTF-8\n",
      "JUPYTERHUB_PORT_8080_TCP_PROTO=tcp\n",
      "VIRTUAL_ENV=/opt/app-root\n",
      "EXPOSER_R67D3GL1JUSEFSUBQ0LCS6B2K9226NHOM42F1QJNSM7MR7JLGM40_SERVICE_PORT_HTTP=80\n",
      "EXPOSER_HQBGTGNMHF0J7VO9R2D46G7LD0S66POVSSM1SN7A2JOOTCEM93H0_PORT=tcp://172.30.191.172:80\n",
      "EXPOSER_SQ2K09916KVPR2AF33IFOFVFC98ERBB7OI0SP0U1D7UE3QLM5ONG_SERVICE_HOST=172.30.219.10\n",
      "EXPOSER_SQ2K09916KVPR2AF33IFOFVFC98ERBB7OI0SP0U1D7UE3QLM5ONG_PORT=tcp://172.30.219.10:80\n",
      "EXPOSER_SJENHIFDU2JJ36H4IK4UV09HIJRQG8NND8IOVLQ62NOLLM6U0LBG_PORT_80_TCP=tcp://172.30.150.254:80\n",
      "KUBERNETES_PORT_443_TCP_PROTO=tcp\n",
      "EXPOSER_IKLPMPER8EBN9MKQESFOH8TTPHVHEA0QTN9A94JF2KH6N3K7APVG_SERVICE_HOST=172.30.117.14\n",
      "KUBERNETES_PORT_443_TCP_ADDR=172.30.0.1\n",
      "NSS_WRAPPER_PASSWD=/opt/app-root/etc/passwd\n",
      "container=oci\n",
      "EXPOSER_8D45AQM67CGBVVBLEGR1RC7GPMARSHH8NFN3094PE41U3SSH4KIG_PORT_80_TCP=tcp://172.30.217.27:80\n",
      "EXPOSER_SJENHIFDU2JJ36H4IK4UV09HIJRQG8NND8IOVLQ62NOLLM6U0LBG_PORT=tcp://172.30.150.254:80\n",
      "EXPOSER_87JJR2HQ4FMVD5PR727HTC365OFT50DD17RPVBJ8A87MKU9QSJHG_SERVICE_PORT=80\n",
      "EXPOSER_R868O58LGUVRI6G6TODBP7IC3CFGC48PGTJH193JNS548VDPBTUG_SERVICE_HOST=172.30.166.17\n",
      "EXPOSER_64IMKDP83GTUFFGSF4RQAVUP4KJF81PHDM5AQMTBRNLRU37GQ0C0_SERVICE_PORT=80\n",
      "JUPYTERHUB_PORT_8080_TCP=tcp://172.30.127.251:8080\n",
      "EXPOSER_IKLPMPER8EBN9MKQESFOH8TTPHVHEA0QTN9A94JF2KH6N3K7APVG_PORT_80_TCP_PROTO=tcp\n",
      "CPU_LIMIT=1.0\n",
      "JUPYTERHUB_BASE_URL=/\n",
      "PAGER=cat\n",
      "EXPOSER_64IMKDP83GTUFFGSF4RQAVUP4KJF81PHDM5AQMTBRNLRU37GQ0C0_PORT_80_TCP_ADDR=172.30.231.11\n",
      "EXPOSER_87JJR2HQ4FMVD5PR727HTC365OFT50DD17RPVBJ8A87MKU9QSJHG_PORT_80_TCP=tcp://172.30.69.95:80\n",
      "EXPOSER_RIIL586EG8NVHVV9MEU79ARLKC4I23QOS2M7S17UM9JHEIBER230_SERVICE_HOST=172.30.252.184\n",
      "KUBERNETES_PORT=tcp://172.30.0.1:443\n",
      "EXPOSER_H7N0PDN9280FNPOV6NEMFTJ7F4SM8OHOAO7VQT2Q83U1ICLRCT70_PORT_80_TCP_PROTO=tcp\n",
      "THOTH_PROVENANCE_CHECK=0\n",
      "THOTH_DRY_RUN=1\n",
      "JPY_PARENT_PID=52\n",
      "PWD=/opt/app-root/src/MAV110_DEC2021\n",
      "S3_ENDPOINT_URL=s3.odh.com\n",
      "EXPOSER_RIIL586EG8NVHVV9MEU79ARLKC4I23QOS2M7S17UM9JHEIBER230_SERVICE_PORT_HTTP=80\n",
      "HOME=/opt/app-root/src\n",
      "WEBDAV_REALM=jupyter-on-openshift/jupyter-notebooks\n",
      "EXPOSER_87JJR2HQ4FMVD5PR727HTC365OFT50DD17RPVBJ8A87MKU9QSJHG_SERVICE_PORT_HTTP=80\n",
      "JUPYTERHUB_DB_PORT=tcp://172.30.99.179:5432\n",
      "EXPOSER_IKLPMPER8EBN9MKQESFOH8TTPHVHEA0QTN9A94JF2KH6N3K7APVG_PORT_80_TCP_ADDR=172.30.117.14\n",
      "CLICOLOR=1\n",
      "OPENSHIFT_BUILD_SOURCE=https://github.com/cajosc/s2i-minimal-notebook\n",
      "EXPOSER_8D45AQM67CGBVVBLEGR1RC7GPMARSHH8NFN3094PE41U3SSH4KIG_SERVICE_PORT=80\n",
      "EXPOSER_SJENHIFDU2JJ36H4IK4UV09HIJRQG8NND8IOVLQ62NOLLM6U0LBG_SERVICE_PORT=80\n",
      "JUPYTERHUB_USER=xnarad\n",
      "KUBERNETES_SERVICE_PORT_HTTPS=443\n",
      "EXPOSER_HQBGTGNMHF0J7VO9R2D46G7LD0S66POVSSM1SN7A2JOOTCEM93H0_PORT_80_TCP_PROTO=tcp\n",
      "JUPYTERHUB_DB_PORT_5432_TCP_PORT=5432\n",
      "EXPOSER_H7N0PDN9280FNPOV6NEMFTJ7F4SM8OHOAO7VQT2Q83U1ICLRCT70_PORT=tcp://172.30.209.142:80\n",
      "THOTH_ADVISE=0\n",
      "KUBERNETES_PORT_443_TCP_PORT=443\n",
      "EXPOSER_R67D3GL1JUSEFSUBQ0LCS6B2K9226NHOM42F1QJNSM7MR7JLGM40_PORT_80_TCP_PROTO=tcp\n",
      "EXPOSER_RIIL586EG8NVHVV9MEU79ARLKC4I23QOS2M7S17UM9JHEIBER230_PORT_80_TCP_PROTO=tcp\n",
      "ENABLE_PIPENV=1\n",
      "JUPYTERHUB_DB_PORT_5432_TCP_PROTO=tcp\n",
      "JUPYTERHUB_PORT_8081_TCP_PROTO=tcp\n",
      "EXPOSER_MSA6QVLAIT3ITQOF7EMLQL9E0UM4MKCTJ0DTCJGLRS6BTB9OO1P0_PORT_80_TCP_ADDR=172.30.175.213\n",
      "EXPOSER_SJENHIFDU2JJ36H4IK4UV09HIJRQG8NND8IOVLQ62NOLLM6U0LBG_PORT_80_TCP_ADDR=172.30.150.254\n",
      "EXPOSER_R67D3GL1JUSEFSUBQ0LCS6B2K9226NHOM42F1QJNSM7MR7JLGM40_PORT_80_TCP_ADDR=172.30.163.19\n",
      "EXPOSER_64IMKDP83GTUFFGSF4RQAVUP4KJF81PHDM5AQMTBRNLRU37GQ0C0_PORT_80_TCP_PORT=80\n",
      "JUPYTERHUB_SERVICE_HOST=172.30.127.251\n",
      "EXPOSER_IKLPMPER8EBN9MKQESFOH8TTPHVHEA0QTN9A94JF2KH6N3K7APVG_PORT_80_TCP_PORT=80\n",
      "PIP_NO_CACHE_DIR=off\n",
      "EXPOSER_R868O58LGUVRI6G6TODBP7IC3CFGC48PGTJH193JNS548VDPBTUG_PORT_80_TCP_PROTO=tcp\n",
      "WEBDAV_USERFILE=/opt/app-root/etc/webdav.htdigest\n",
      "JUPYTERHUB_PORT_8081_TCP_PORT=8081\n",
      "EXPOSER_IKLPMPER8EBN9MKQESFOH8TTPHVHEA0QTN9A94JF2KH6N3K7APVG_PORT=tcp://172.30.117.14:80\n",
      "EXPOSER_8D45AQM67CGBVVBLEGR1RC7GPMARSHH8NFN3094PE41U3SSH4KIG_PORT=tcp://172.30.217.27:80\n",
      "EXPOSER_SJENHIFDU2JJ36H4IK4UV09HIJRQG8NND8IOVLQ62NOLLM6U0LBG_PORT_80_TCP_PORT=80\n",
      "KUBERNETES_PORT_443_TCP=tcp://172.30.0.1:443\n",
      "EXPOSER_R868O58LGUVRI6G6TODBP7IC3CFGC48PGTJH193JNS548VDPBTUG_PORT=tcp://172.30.166.17:80\n",
      "JUPYTERHUB_SERVICE_PREFIX=/user/xnarad/\n",
      "OPENSHIFT_BUILD_NAME=s2i-marine-jupyterhub-1\n",
      "EXPOSER_8D45AQM67CGBVVBLEGR1RC7GPMARSHH8NFN3094PE41U3SSH4KIG_SERVICE_PORT_HTTP=80\n",
      "JUPYTERHUB_PORT_8080_TCP_PORT=8080\n",
      "JUPYTERHUB_SERVICE_PORT_8080_TCP=8080\n",
      "EXPOSER_MSA6QVLAIT3ITQOF7EMLQL9E0UM4MKCTJ0DTCJGLRS6BTB9OO1P0_PORT=tcp://172.30.175.213:80\n",
      "EXPOSER_87JJR2HQ4FMVD5PR727HTC365OFT50DD17RPVBJ8A87MKU9QSJHG_PORT_80_TCP_ADDR=172.30.69.95\n",
      "EXPOSER_SQ2K09916KVPR2AF33IFOFVFC98ERBB7OI0SP0U1D7UE3QLM5ONG_SERVICE_PORT=80\n",
      "TERM=xterm-color\n",
      "OPENSHIFT_BUILD_COMMIT=a369d59d0ecff03dccab21b5bfdfe2dd98e1b251\n",
      "EXPOSER_MSA6QVLAIT3ITQOF7EMLQL9E0UM4MKCTJ0DTCJGLRS6BTB9OO1P0_SERVICE_HOST=172.30.175.213\n",
      "THAMOS_NO_EMOJI=1\n",
      "EXPOSER_H7N0PDN9280FNPOV6NEMFTJ7F4SM8OHOAO7VQT2Q83U1ICLRCT70_PORT_80_TCP_PORT=80\n",
      "EXPOSER_HQBGTGNMHF0J7VO9R2D46G7LD0S66POVSSM1SN7A2JOOTCEM93H0_PORT_80_TCP=tcp://172.30.191.172:80\n",
      "EXPOSER_HQBGTGNMHF0J7VO9R2D46G7LD0S66POVSSM1SN7A2JOOTCEM93H0_PORT_80_TCP_PORT=80\n",
      "EXPOSER_SJENHIFDU2JJ36H4IK4UV09HIJRQG8NND8IOVLQ62NOLLM6U0LBG_PORT_80_TCP_PROTO=tcp\n",
      "OPENSHIFT_BUILD_NAMESPACE=marine-jupyterhub\n",
      "EXPOSER_SQ2K09916KVPR2AF33IFOFVFC98ERBB7OI0SP0U1D7UE3QLM5ONG_PORT_80_TCP_ADDR=172.30.219.10\n",
      "MPLBACKEND=module://matplotlib_inline.backend_inline\n",
      "PLATFORM=el8\n",
      "NSS_SDB_USE_CACHE=no\n",
      "JUPYTER_IMAGE=s2i-marine-jupyterhub:latest\n",
      "EXPOSER_87JJR2HQ4FMVD5PR727HTC365OFT50DD17RPVBJ8A87MKU9QSJHG_SERVICE_HOST=172.30.69.95\n",
      "NSS_WRAPPER_GROUP=/etc/group\n",
      "EXPOSER_MSA6QVLAIT3ITQOF7EMLQL9E0UM4MKCTJ0DTCJGLRS6BTB9OO1P0_PORT_80_TCP_PORT=80\n",
      "MEM_LIMIT=1073741824\n",
      "EXPOSER_HQBGTGNMHF0J7VO9R2D46G7LD0S66POVSSM1SN7A2JOOTCEM93H0_PORT_80_TCP_ADDR=172.30.191.172\n",
      "PYTHON_VERSION=3.8\n",
      "JUPYTERHUB_DB_PORT_5432_TCP_ADDR=172.30.99.179\n",
      "JUPYTERHUB_DB_PORT_5432_TCP=tcp://172.30.99.179:5432\n",
      "JUPYTERHUB_PORT_8081_TCP=tcp://172.30.127.251:8081\n",
      "JUPYTERHUB_API_URL=http://jupyterhub:8081/hub/api\n",
      "SHLVL=2\n",
      "PYTHONPATH=/opt/app-root/src/.local/lib/python3.8/site-packages\n",
      "EXPOSER_R868O58LGUVRI6G6TODBP7IC3CFGC48PGTJH193JNS548VDPBTUG_PORT_80_TCP_PORT=80\n",
      "JUPYTERHUB_HOST=\n",
      "EXPOSER_H7N0PDN9280FNPOV6NEMFTJ7F4SM8OHOAO7VQT2Q83U1ICLRCT70_SERVICE_PORT=80\n",
      "EXPOSER_HQBGTGNMHF0J7VO9R2D46G7LD0S66POVSSM1SN7A2JOOTCEM93H0_SERVICE_PORT=80\n",
      "JPY_API_TOKEN=09c76996bbb5466eabb7431cdba0824c\n",
      "EXPOSER_IKLPMPER8EBN9MKQESFOH8TTPHVHEA0QTN9A94JF2KH6N3K7APVG_SERVICE_PORT=80\n",
      "KUBERNETES_SERVICE_PORT=443\n",
      "JUPYTERHUB_PORT=tcp://172.30.127.251:8080\n",
      "STI_SCRIPTS_PATH=/usr/libexec/s2i\n",
      "EXPOSER_64IMKDP83GTUFFGSF4RQAVUP4KJF81PHDM5AQMTBRNLRU37GQ0C0_PORT_80_TCP=tcp://172.30.231.11:80\n",
      "JUPYTERHUB_DB_SERVICE_HOST=172.30.99.179\n",
      "EXPOSER_RIIL586EG8NVHVV9MEU79ARLKC4I23QOS2M7S17UM9JHEIBER230_PORT_80_TCP_ADDR=172.30.252.184\n",
      "EXPOSER_8D45AQM67CGBVVBLEGR1RC7GPMARSHH8NFN3094PE41U3SSH4KIG_PORT_80_TCP_ADDR=172.30.217.27\n",
      "JUPYTERHUB_OAUTH_CALLBACK_URL=/user/xnarad/oauth_callback\n",
      "EXPOSER_H7N0PDN9280FNPOV6NEMFTJ7F4SM8OHOAO7VQT2Q83U1ICLRCT70_PORT_80_TCP=tcp://172.30.209.142:80\n",
      "APP_ROOT=/opt/app-root\n",
      "EXPOSER_MSA6QVLAIT3ITQOF7EMLQL9E0UM4MKCTJ0DTCJGLRS6BTB9OO1P0_PORT_80_TCP=tcp://172.30.175.213:80\n",
      "THOTH_S2I_VERSION=0.22.0\n",
      "EXPOSER_87JJR2HQ4FMVD5PR727HTC365OFT50DD17RPVBJ8A87MKU9QSJHG_PORT_80_TCP_PROTO=tcp\n",
      "EXPOSER_IKLPMPER8EBN9MKQESFOH8TTPHVHEA0QTN9A94JF2KH6N3K7APVG_SERVICE_PORT_HTTP=80\n",
      "JUPYTERHUB_API_TOKEN=09c76996bbb5466eabb7431cdba0824c\n",
      "PATH=/opt/app-root/bin:/opt/app-root/src/.local/bin/:/opt/app-root/src/bin:/opt/app-root/bin:/usr/local/sbin:/usr/local/bin:/usr/sbin:/usr/bin:/sbin:/bin\n",
      "EXPOSER_64IMKDP83GTUFFGSF4RQAVUP4KJF81PHDM5AQMTBRNLRU37GQ0C0_SERVICE_HOST=172.30.231.11\n",
      "JUPYTERHUB_USER_NAME=xnarad\n",
      "EXPOSER_64IMKDP83GTUFFGSF4RQAVUP4KJF81PHDM5AQMTBRNLRU37GQ0C0_PORT=tcp://172.30.231.11:80\n",
      "PIP_TARGET=/opt/app-root/src/.local/lib/python3.8/site-packages\n",
      "EXPOSER_HQBGTGNMHF0J7VO9R2D46G7LD0S66POVSSM1SN7A2JOOTCEM93H0_SERVICE_HOST=172.30.191.172\n",
      "EXPOSER_H7N0PDN9280FNPOV6NEMFTJ7F4SM8OHOAO7VQT2Q83U1ICLRCT70_SERVICE_PORT_HTTP=80\n",
      "EXPOSER_SQ2K09916KVPR2AF33IFOFVFC98ERBB7OI0SP0U1D7UE3QLM5ONG_PORT_80_TCP_PORT=80\n",
      "LD_PRELOAD=libnss_wrapper.so\n",
      "EXPOSER_RIIL586EG8NVHVV9MEU79ARLKC4I23QOS2M7S17UM9JHEIBER230_PORT_80_TCP_PORT=80\n",
      "KUBERNETES_SERVICE_HOST=172.30.0.1\n",
      "EXPOSER_SJENHIFDU2JJ36H4IK4UV09HIJRQG8NND8IOVLQ62NOLLM6U0LBG_SERVICE_HOST=172.30.150.254\n",
      "EXPOSER_8D45AQM67CGBVVBLEGR1RC7GPMARSHH8NFN3094PE41U3SSH4KIG_PORT_80_TCP_PORT=80\n",
      "KUBECTL_VERSION=1.20\n",
      "EXPOSER_SQ2K09916KVPR2AF33IFOFVFC98ERBB7OI0SP0U1D7UE3QLM5ONG_PORT_80_TCP=tcp://172.30.219.10:80\n",
      "JUPYTER_ENABLE_WEBDAV=false\n",
      "JUPYTER_IMAGE_SPEC=s2i-marine-jupyterhub:latest\n",
      "EXPOSER_MSA6QVLAIT3ITQOF7EMLQL9E0UM4MKCTJ0DTCJGLRS6BTB9OO1P0_SERVICE_PORT=80\n",
      "JUPYTERHUB_PORT_8080_TCP_ADDR=172.30.127.251\n",
      "EXPOSER_SJENHIFDU2JJ36H4IK4UV09HIJRQG8NND8IOVLQ62NOLLM6U0LBG_SERVICE_PORT_HTTP=80\n",
      "NODEJS_VER=10\n",
      "GIT_PAGER=cat\n"
     ]
    }
   ],
   "source": [
    "!env "
   ]
  },
  {
   "cell_type": "code",
   "execution_count": 10,
   "id": "8b3ad93b",
   "metadata": {},
   "outputs": [
    {
     "name": "stdout",
     "output_type": "stream",
     "text": [
      "HOME=/opt/app-root/src\n"
     ]
    }
   ],
   "source": [
    "!env |grep HOME"
   ]
  },
  {
   "cell_type": "code",
   "execution_count": 11,
   "id": "75f8cc3c",
   "metadata": {},
   "outputs": [
    {
     "name": "stdout",
     "output_type": "stream",
     "text": [
      "/opt/app-root/src\n"
     ]
    }
   ],
   "source": [
    "!echo $HOME"
   ]
  },
  {
   "cell_type": "code",
   "execution_count": 12,
   "id": "6d5c35ab",
   "metadata": {},
   "outputs": [
    {
     "name": "stdout",
     "output_type": "stream",
     "text": [
      "/opt/app-root/bin:/opt/app-root/src/.local/bin/:/opt/app-root/src/bin:/opt/app-root/bin:/usr/local/sbin:/usr/local/bin:/usr/sbin:/usr/bin:/sbin:/bin\n"
     ]
    }
   ],
   "source": [
    "!echo $PATH"
   ]
  },
  {
   "cell_type": "markdown",
   "id": "1ef0ed2d",
   "metadata": {},
   "source": [
    "The PATH environment variable contains all the locations that your shell will look for when you make a call to an executable file. You can add a directory to this path by appending to it:\n",
    "\n",
    "**export PATH=\"/path/to/new/bin:$PATH\"**"
   ]
  },
  {
   "cell_type": "markdown",
   "id": "f9804853",
   "metadata": {},
   "source": [
    "You can also add to your system's paths from within Python, so that Python will also search that directory for your module."
   ]
  },
  {
   "cell_type": "code",
   "execution_count": 1,
   "id": "8bbdef98",
   "metadata": {},
   "outputs": [
    {
     "name": "stdout",
     "output_type": "stream",
     "text": [
      "polynomial_2.py  sol_dispersion.py\t   sol_np_reshape.py\n",
      "__pycache__\t sol_disp_scipy.py\t   sol_poly2_curve_fit.py\n",
      "sol_00_01.py\t sol_linear_curve_fit.py   sol_scipy_SIR.py\n",
      "sol_00_02.py\t sol_linear_regression.py\n",
      "sol_02_04.py\t sol_mult.py\n"
     ]
    }
   ],
   "source": [
    "!ls ./solutions"
   ]
  },
  {
   "cell_type": "code",
   "execution_count": 2,
   "id": "abb428a9",
   "metadata": {},
   "outputs": [
    {
     "name": "stdout",
     "output_type": "stream",
     "text": [
      "def poly(x, a=2, b=3, c=10):\n",
      "    return a*x**2 + b*x + c"
     ]
    }
   ],
   "source": [
    "!cat ./solutions/polynomial_2.py"
   ]
  },
  {
   "cell_type": "code",
   "execution_count": 3,
   "id": "121c4120",
   "metadata": {},
   "outputs": [
    {
     "ename": "ModuleNotFoundError",
     "evalue": "No module named 'polynomial_2'",
     "output_type": "error",
     "traceback": [
      "\u001b[0;31m---------------------------------------------------------------------------\u001b[0m",
      "\u001b[0;31mModuleNotFoundError\u001b[0m                       Traceback (most recent call last)",
      "\u001b[0;32m/tmp/ipykernel_2407/2979290088.py\u001b[0m in \u001b[0;36m<module>\u001b[0;34m\u001b[0m\n\u001b[0;32m----> 1\u001b[0;31m \u001b[0;32mimport\u001b[0m \u001b[0mpolynomial_2\u001b[0m\u001b[0;34m\u001b[0m\u001b[0;34m\u001b[0m\u001b[0m\n\u001b[0m",
      "\u001b[0;31mModuleNotFoundError\u001b[0m: No module named 'polynomial_2'"
     ]
    }
   ],
   "source": [
    "import polynomial_2"
   ]
  },
  {
   "cell_type": "code",
   "execution_count": 4,
   "id": "0f83f1e5",
   "metadata": {},
   "outputs": [],
   "source": [
    "import sys\n",
    "sys.path.append(\"./solutions/\")"
   ]
  },
  {
   "cell_type": "code",
   "execution_count": 5,
   "id": "c4667848",
   "metadata": {},
   "outputs": [
    {
     "data": {
      "text/plain": [
       "['/opt/app-root/src/MAV110_DEC2021',\n",
       " '',\n",
       " '/opt/app-root/src/.local/lib/python3.8/site-packages',\n",
       " '/usr/lib64/python38.zip',\n",
       " '/usr/lib64/python3.8',\n",
       " '/usr/lib64/python3.8/lib-dynload',\n",
       " '/opt/app-root/lib64/python3.8/site-packages',\n",
       " '/opt/app-root/lib/python3.8/site-packages',\n",
       " '/opt/app-root/src/.local/lib/python3.8/site-packages/IPython/extensions',\n",
       " '/opt/app-root/src/.ipython',\n",
       " './solutions/']"
      ]
     },
     "execution_count": 5,
     "metadata": {},
     "output_type": "execute_result"
    }
   ],
   "source": [
    "sys.path"
   ]
  },
  {
   "cell_type": "code",
   "execution_count": 7,
   "id": "f2f57f3a",
   "metadata": {},
   "outputs": [],
   "source": [
    "import polynomial_2"
   ]
  },
  {
   "cell_type": "code",
   "execution_count": 8,
   "id": "aaabb818",
   "metadata": {},
   "outputs": [
    {
     "data": {
      "text/plain": [
       "24"
      ]
     },
     "execution_count": 8,
     "metadata": {},
     "output_type": "execute_result"
    }
   ],
   "source": [
    "polynomial_2.poly(2)"
   ]
  },
  {
   "cell_type": "markdown",
   "id": "c1f592e6",
   "metadata": {},
   "source": [
    "Now you can make calls to the function within the module that you just imported!"
   ]
  }
 ],
 "metadata": {
  "kernelspec": {
   "display_name": "Python 3",
   "language": "python",
   "name": "python3"
  },
  "language_info": {
   "codemirror_mode": {
    "name": "ipython",
    "version": 3
   },
   "file_extension": ".py",
   "mimetype": "text/x-python",
   "name": "python",
   "nbconvert_exporter": "python",
   "pygments_lexer": "ipython3",
   "version": "3.8.3"
  }
 },
 "nbformat": 4,
 "nbformat_minor": 5
}
